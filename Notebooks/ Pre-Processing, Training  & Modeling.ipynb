{
 "cells": [
  {
   "cell_type": "markdown",
   "id": "8d6fd683",
   "metadata": {},
   "source": [
    " ## 3. Pre-Processing, Training  & Modeling for Home Prices"
   ]
  },
  {
   "cell_type": "markdown",
   "id": "5530cc12",
   "metadata": {},
   "source": [
    "## 3.1 Contents<a id='3.1_Contents'></a>\n",
    "* [3 Pre-Processing and Training & Modeling for Home Prices](#3_Pre-Processing_and_Training_&_Modeling_for_Home_Prices)\n",
    "  * [3.1 Contents](#3.1_Contents)\n",
    "  * [3.2 Introduction](#3.2_Introduction)\n",
    "  * [3.3 Imports](#3.3_Imports)\n",
    "  * [3.4 Load Data](#3.4_Load_Data)\n",
    "  * [3.5 Pre-Processing the Data](#3.5_Pre-Processing_the_Data)\n",
    "      * [3.5.1 Renovation Age Column](#3.5.1_Renovation_Age_Column)\n",
    "      * [3.5.2 bd/ba % NaNs](#3.5.2_bd/ba_%_NaNs)\n",
    "  * [3.6 Train/Test Split](#3.6_Train/Test_Split)\n",
    "  * [3.7 Linear Regression](#3.7_Linear_Regression)\n",
    "       * [3.7.2 Cross Validation of Linear Regression](#3.7.2_Cross_Validation_of_Linear_Regression) \n",
    "       * [3.7.3 Grid Search CV for LR](#3.7.3_Grid_Search_CV_for_LR) \n",
    "  * [3.8 Ridge Regression](#3.8_Ridge_Regression)\n",
    "       * [3.8.1 RR Metrics](34.8.1_RR_Metrics)  \n",
    "       * [3.8.2 Cross Validation of Ridge Regression](#3.8.2_Cross_Validation_of_Ridge_Regression)\n",
    "       * [3.8.3 Grid Search CV for RR](#3.8.3_Grid_Search_CV_for_RR)   \n",
    "  * [3.9 Random Forest Regression](#3.9_Random_Forest_Regression)\n",
    "       * [3.9.1 RF Metrics](#3.9.1_RF_Metrics)\n",
    "       * [3.9.2 Cross Validation of RF](#3.9.2_Cross_Validation_of_RF)\n",
    "       * [3.9.3 Grid Search CV for Random Forest](#3.9.3_Grid_Search_CV_for_Random_Forest)\n",
    "  * [3.10 XGB Regression](#3.10_XGB_Regression)\n",
    "       * [3.10.1 XGB Metrics](#3.10.1_XGB_Metrics)\n",
    "       * [3.10.2 Cross Validation of XGB Regression](#3.10.2_Cross_Validation_of_XGB_Regression)\n",
    "       * [3.10.3 Grid Search CV for XGB Regression](#3.10.3_Grid_Search_CV_for_XGB_Regression)\n",
    "  * [3.11 Model Metrics](#3.11_Model_Metrics)\n",
    "  * [3.12 Summary](#3.12_Summary)"
   ]
  },
  {
   "cell_type": "markdown",
   "id": "d5eaebb2",
   "metadata": {},
   "source": [
    "## 3.2 Introduction<a id='3.2_Introduction'></a>"
   ]
  },
  {
   "cell_type": "markdown",
   "id": "f3dcb3ca",
   "metadata": {},
   "source": [
    "In the last step I explored and cleaned the data. I created a new column of 'Age' so we know how old the home is. Found which columns were positively correlated such as 'Square Feet' of living and 'Square Feet Above' at + .88.\n",
    "\n",
    "Now I will prepare the data to do a train/test split. This will help to get the data ready for training a model to predict the price of a home. I will standardize the data to keep everything on an equal level so it does not overfit. I will try three different models to find which one is most accurate at predicting the Y variable of price. I will compare the models using RMSE, MAE and R2 score."
   ]
  },
  {
   "cell_type": "markdown",
   "id": "7f704ac2",
   "metadata": {},
   "source": [
    "## 3.3 Imports<a id='3.3_Imports'></a>"
   ]
  },
  {
   "cell_type": "code",
   "execution_count": 404,
   "id": "29832187",
   "metadata": {},
   "outputs": [],
   "source": [
    "import pandas as pd\n",
    "import numpy as np\n",
    "import matplotlib.pyplot as plt\n",
    "from sklearn.preprocessing import scale\n",
    "from sklearn.model_selection import train_test_split, cross_validate, GridSearchCV, learning_curve\n",
    "from sklearn.preprocessing import StandardScaler, MinMaxScaler\n",
    "from sklearn.linear_model import LinearRegression\n",
    "from sklearn.ensemble import RandomForestRegressor\n",
    "from sklearn.metrics import r2_score, mean_squared_error, mean_absolute_error\n",
    "from sklearn.pipeline import make_pipeline\n",
    "from sklearn.impute import SimpleImputer\n",
    "from sklearn.linear_model import Ridge, RidgeCV, Lasso\n",
    "from sklearn.metrics import mean_squared_error\n",
    "from sklearn.svm import SVC, SVR\n",
    "from math import sqrt"
   ]
  },
  {
   "cell_type": "code",
   "execution_count": 405,
   "id": "9badaccb",
   "metadata": {},
   "outputs": [],
   "source": [
    "pd.options.display.float_format = '{:.2f}'.format"
   ]
  },
  {
   "cell_type": "markdown",
   "id": "d929f3ea",
   "metadata": {},
   "source": [
    "## 3.4 Load Data<a id='3.4_Load_Data'></a>"
   ]
  },
  {
   "cell_type": "code",
   "execution_count": 406,
   "id": "cb385810",
   "metadata": {},
   "outputs": [],
   "source": [
    "df= pd.read_csv('house_data_clean.csv')"
   ]
  },
  {
   "cell_type": "code",
   "execution_count": 407,
   "id": "1773fb63",
   "metadata": {},
   "outputs": [
    {
     "data": {
      "text/html": [
       "<div>\n",
       "<style scoped>\n",
       "    .dataframe tbody tr th:only-of-type {\n",
       "        vertical-align: middle;\n",
       "    }\n",
       "\n",
       "    .dataframe tbody tr th {\n",
       "        vertical-align: top;\n",
       "    }\n",
       "\n",
       "    .dataframe thead th {\n",
       "        text-align: right;\n",
       "    }\n",
       "</style>\n",
       "<table border=\"1\" class=\"dataframe\">\n",
       "  <thead>\n",
       "    <tr style=\"text-align: right;\">\n",
       "      <th></th>\n",
       "      <th>Unnamed: 0</th>\n",
       "      <th>date</th>\n",
       "      <th>price</th>\n",
       "      <th>bedrooms</th>\n",
       "      <th>bathrooms</th>\n",
       "      <th>bd/ba %</th>\n",
       "      <th>age</th>\n",
       "      <th>yr_built</th>\n",
       "      <th>sqft_above</th>\n",
       "      <th>sqft_basement</th>\n",
       "      <th>...</th>\n",
       "      <th>floors</th>\n",
       "      <th>view</th>\n",
       "      <th>waterfront</th>\n",
       "      <th>condition</th>\n",
       "      <th>yr_renovated</th>\n",
       "      <th>street</th>\n",
       "      <th>city</th>\n",
       "      <th>state</th>\n",
       "      <th>zip code</th>\n",
       "      <th>country</th>\n",
       "    </tr>\n",
       "  </thead>\n",
       "  <tbody>\n",
       "    <tr>\n",
       "      <th>0</th>\n",
       "      <td>0</td>\n",
       "      <td>2014-05-02</td>\n",
       "      <td>313000.00</td>\n",
       "      <td>3.00</td>\n",
       "      <td>1.50</td>\n",
       "      <td>2.00</td>\n",
       "      <td>59</td>\n",
       "      <td>1955</td>\n",
       "      <td>1340</td>\n",
       "      <td>0</td>\n",
       "      <td>...</td>\n",
       "      <td>1.50</td>\n",
       "      <td>0</td>\n",
       "      <td>0</td>\n",
       "      <td>3</td>\n",
       "      <td>2005</td>\n",
       "      <td>18810 Densmore Ave N</td>\n",
       "      <td>Shoreline</td>\n",
       "      <td>WA</td>\n",
       "      <td>98133</td>\n",
       "      <td>USA</td>\n",
       "    </tr>\n",
       "    <tr>\n",
       "      <th>1</th>\n",
       "      <td>1</td>\n",
       "      <td>2014-05-02</td>\n",
       "      <td>2384000.00</td>\n",
       "      <td>5.00</td>\n",
       "      <td>2.50</td>\n",
       "      <td>2.00</td>\n",
       "      <td>93</td>\n",
       "      <td>1921</td>\n",
       "      <td>3370</td>\n",
       "      <td>280</td>\n",
       "      <td>...</td>\n",
       "      <td>2.00</td>\n",
       "      <td>4</td>\n",
       "      <td>0</td>\n",
       "      <td>5</td>\n",
       "      <td>0</td>\n",
       "      <td>709 W Blaine St</td>\n",
       "      <td>Seattle</td>\n",
       "      <td>WA</td>\n",
       "      <td>98119</td>\n",
       "      <td>USA</td>\n",
       "    </tr>\n",
       "    <tr>\n",
       "      <th>2</th>\n",
       "      <td>2</td>\n",
       "      <td>2014-05-02</td>\n",
       "      <td>342000.00</td>\n",
       "      <td>3.00</td>\n",
       "      <td>2.00</td>\n",
       "      <td>1.50</td>\n",
       "      <td>48</td>\n",
       "      <td>1966</td>\n",
       "      <td>1930</td>\n",
       "      <td>0</td>\n",
       "      <td>...</td>\n",
       "      <td>1.00</td>\n",
       "      <td>0</td>\n",
       "      <td>0</td>\n",
       "      <td>4</td>\n",
       "      <td>0</td>\n",
       "      <td>26206-26214 143rd Ave SE</td>\n",
       "      <td>Kent</td>\n",
       "      <td>WA</td>\n",
       "      <td>98042</td>\n",
       "      <td>USA</td>\n",
       "    </tr>\n",
       "    <tr>\n",
       "      <th>3</th>\n",
       "      <td>3</td>\n",
       "      <td>2014-05-02</td>\n",
       "      <td>420000.00</td>\n",
       "      <td>3.00</td>\n",
       "      <td>2.25</td>\n",
       "      <td>1.33</td>\n",
       "      <td>51</td>\n",
       "      <td>1963</td>\n",
       "      <td>1000</td>\n",
       "      <td>1000</td>\n",
       "      <td>...</td>\n",
       "      <td>1.00</td>\n",
       "      <td>0</td>\n",
       "      <td>0</td>\n",
       "      <td>4</td>\n",
       "      <td>0</td>\n",
       "      <td>857 170th Pl NE</td>\n",
       "      <td>Bellevue</td>\n",
       "      <td>WA</td>\n",
       "      <td>98008</td>\n",
       "      <td>USA</td>\n",
       "    </tr>\n",
       "    <tr>\n",
       "      <th>4</th>\n",
       "      <td>4</td>\n",
       "      <td>2014-05-02</td>\n",
       "      <td>550000.00</td>\n",
       "      <td>4.00</td>\n",
       "      <td>2.50</td>\n",
       "      <td>1.60</td>\n",
       "      <td>38</td>\n",
       "      <td>1976</td>\n",
       "      <td>1140</td>\n",
       "      <td>800</td>\n",
       "      <td>...</td>\n",
       "      <td>1.00</td>\n",
       "      <td>0</td>\n",
       "      <td>0</td>\n",
       "      <td>4</td>\n",
       "      <td>1992</td>\n",
       "      <td>9105 170th Ave NE</td>\n",
       "      <td>Redmond</td>\n",
       "      <td>WA</td>\n",
       "      <td>98052</td>\n",
       "      <td>USA</td>\n",
       "    </tr>\n",
       "  </tbody>\n",
       "</table>\n",
       "<p>5 rows × 22 columns</p>\n",
       "</div>"
      ],
      "text/plain": [
       "   Unnamed: 0        date      price  bedrooms  bathrooms  bd/ba %  age  \\\n",
       "0           0  2014-05-02  313000.00      3.00       1.50     2.00   59   \n",
       "1           1  2014-05-02 2384000.00      5.00       2.50     2.00   93   \n",
       "2           2  2014-05-02  342000.00      3.00       2.00     1.50   48   \n",
       "3           3  2014-05-02  420000.00      3.00       2.25     1.33   51   \n",
       "4           4  2014-05-02  550000.00      4.00       2.50     1.60   38   \n",
       "\n",
       "   yr_built  sqft_above  sqft_basement  ...  floors  view  waterfront  \\\n",
       "0      1955        1340              0  ...    1.50     0           0   \n",
       "1      1921        3370            280  ...    2.00     4           0   \n",
       "2      1966        1930              0  ...    1.00     0           0   \n",
       "3      1963        1000           1000  ...    1.00     0           0   \n",
       "4      1976        1140            800  ...    1.00     0           0   \n",
       "\n",
       "   condition  yr_renovated                    street       city state  \\\n",
       "0          3          2005      18810 Densmore Ave N  Shoreline    WA   \n",
       "1          5             0           709 W Blaine St    Seattle    WA   \n",
       "2          4             0  26206-26214 143rd Ave SE       Kent    WA   \n",
       "3          4             0           857 170th Pl NE   Bellevue    WA   \n",
       "4          4          1992         9105 170th Ave NE    Redmond    WA   \n",
       "\n",
       "  zip code country  \n",
       "0    98133     USA  \n",
       "1    98119     USA  \n",
       "2    98042     USA  \n",
       "3    98008     USA  \n",
       "4    98052     USA  \n",
       "\n",
       "[5 rows x 22 columns]"
      ]
     },
     "execution_count": 407,
     "metadata": {},
     "output_type": "execute_result"
    }
   ],
   "source": [
    "df.head()"
   ]
  },
  {
   "cell_type": "code",
   "execution_count": 408,
   "id": "cf64edaf",
   "metadata": {},
   "outputs": [
    {
     "name": "stdout",
     "output_type": "stream",
     "text": [
      "<class 'pandas.core.frame.DataFrame'>\n",
      "RangeIndex: 4600 entries, 0 to 4599\n",
      "Data columns (total 22 columns):\n",
      " #   Column         Non-Null Count  Dtype  \n",
      "---  ------         --------------  -----  \n",
      " 0   Unnamed: 0     4600 non-null   int64  \n",
      " 1   date           4600 non-null   object \n",
      " 2   price          4600 non-null   float64\n",
      " 3   bedrooms       4600 non-null   float64\n",
      " 4   bathrooms      4600 non-null   float64\n",
      " 5   bd/ba %        4598 non-null   float64\n",
      " 6   age            4600 non-null   int64  \n",
      " 7   yr_built       4600 non-null   int64  \n",
      " 8   sqft_above     4600 non-null   int64  \n",
      " 9   sqft_basement  4600 non-null   int64  \n",
      " 10  sqft_living    4600 non-null   int64  \n",
      " 11  sqft_lot       4600 non-null   int64  \n",
      " 12  floors         4600 non-null   float64\n",
      " 13  view           4600 non-null   int64  \n",
      " 14  waterfront     4600 non-null   int64  \n",
      " 15  condition      4600 non-null   int64  \n",
      " 16  yr_renovated   4600 non-null   int64  \n",
      " 17  street         4600 non-null   object \n",
      " 18  city           4600 non-null   object \n",
      " 19  state          4600 non-null   object \n",
      " 20  zip code       4600 non-null   int64  \n",
      " 21  country        4600 non-null   object \n",
      "dtypes: float64(5), int64(12), object(5)\n",
      "memory usage: 790.8+ KB\n"
     ]
    }
   ],
   "source": [
    "df.info()"
   ]
  },
  {
   "cell_type": "code",
   "execution_count": 409,
   "id": "aad03002",
   "metadata": {},
   "outputs": [
    {
     "data": {
      "text/plain": [
       "(4600, 22)"
      ]
     },
     "execution_count": 409,
     "metadata": {},
     "output_type": "execute_result"
    }
   ],
   "source": [
    "df.shape"
   ]
  },
  {
   "cell_type": "markdown",
   "id": "7ed0f538",
   "metadata": {},
   "source": [
    "I need to drop the unnamed column that is not useful to our model."
   ]
  },
  {
   "cell_type": "code",
   "execution_count": 410,
   "id": "a7740b1a",
   "metadata": {},
   "outputs": [],
   "source": [
    "df=df.drop(df.columns[0:1], axis=1)"
   ]
  },
  {
   "cell_type": "code",
   "execution_count": 411,
   "id": "964b60ee",
   "metadata": {},
   "outputs": [
    {
     "data": {
      "text/html": [
       "<div>\n",
       "<style scoped>\n",
       "    .dataframe tbody tr th:only-of-type {\n",
       "        vertical-align: middle;\n",
       "    }\n",
       "\n",
       "    .dataframe tbody tr th {\n",
       "        vertical-align: top;\n",
       "    }\n",
       "\n",
       "    .dataframe thead th {\n",
       "        text-align: right;\n",
       "    }\n",
       "</style>\n",
       "<table border=\"1\" class=\"dataframe\">\n",
       "  <thead>\n",
       "    <tr style=\"text-align: right;\">\n",
       "      <th></th>\n",
       "      <th>date</th>\n",
       "      <th>price</th>\n",
       "      <th>bedrooms</th>\n",
       "      <th>bathrooms</th>\n",
       "      <th>bd/ba %</th>\n",
       "      <th>age</th>\n",
       "      <th>yr_built</th>\n",
       "      <th>sqft_above</th>\n",
       "      <th>sqft_basement</th>\n",
       "      <th>sqft_living</th>\n",
       "      <th>...</th>\n",
       "      <th>floors</th>\n",
       "      <th>view</th>\n",
       "      <th>waterfront</th>\n",
       "      <th>condition</th>\n",
       "      <th>yr_renovated</th>\n",
       "      <th>street</th>\n",
       "      <th>city</th>\n",
       "      <th>state</th>\n",
       "      <th>zip code</th>\n",
       "      <th>country</th>\n",
       "    </tr>\n",
       "  </thead>\n",
       "  <tbody>\n",
       "    <tr>\n",
       "      <th>0</th>\n",
       "      <td>2014-05-02</td>\n",
       "      <td>313000.00</td>\n",
       "      <td>3.00</td>\n",
       "      <td>1.50</td>\n",
       "      <td>2.00</td>\n",
       "      <td>59</td>\n",
       "      <td>1955</td>\n",
       "      <td>1340</td>\n",
       "      <td>0</td>\n",
       "      <td>1340</td>\n",
       "      <td>...</td>\n",
       "      <td>1.50</td>\n",
       "      <td>0</td>\n",
       "      <td>0</td>\n",
       "      <td>3</td>\n",
       "      <td>2005</td>\n",
       "      <td>18810 Densmore Ave N</td>\n",
       "      <td>Shoreline</td>\n",
       "      <td>WA</td>\n",
       "      <td>98133</td>\n",
       "      <td>USA</td>\n",
       "    </tr>\n",
       "    <tr>\n",
       "      <th>1</th>\n",
       "      <td>2014-05-02</td>\n",
       "      <td>2384000.00</td>\n",
       "      <td>5.00</td>\n",
       "      <td>2.50</td>\n",
       "      <td>2.00</td>\n",
       "      <td>93</td>\n",
       "      <td>1921</td>\n",
       "      <td>3370</td>\n",
       "      <td>280</td>\n",
       "      <td>3650</td>\n",
       "      <td>...</td>\n",
       "      <td>2.00</td>\n",
       "      <td>4</td>\n",
       "      <td>0</td>\n",
       "      <td>5</td>\n",
       "      <td>0</td>\n",
       "      <td>709 W Blaine St</td>\n",
       "      <td>Seattle</td>\n",
       "      <td>WA</td>\n",
       "      <td>98119</td>\n",
       "      <td>USA</td>\n",
       "    </tr>\n",
       "    <tr>\n",
       "      <th>2</th>\n",
       "      <td>2014-05-02</td>\n",
       "      <td>342000.00</td>\n",
       "      <td>3.00</td>\n",
       "      <td>2.00</td>\n",
       "      <td>1.50</td>\n",
       "      <td>48</td>\n",
       "      <td>1966</td>\n",
       "      <td>1930</td>\n",
       "      <td>0</td>\n",
       "      <td>1930</td>\n",
       "      <td>...</td>\n",
       "      <td>1.00</td>\n",
       "      <td>0</td>\n",
       "      <td>0</td>\n",
       "      <td>4</td>\n",
       "      <td>0</td>\n",
       "      <td>26206-26214 143rd Ave SE</td>\n",
       "      <td>Kent</td>\n",
       "      <td>WA</td>\n",
       "      <td>98042</td>\n",
       "      <td>USA</td>\n",
       "    </tr>\n",
       "    <tr>\n",
       "      <th>3</th>\n",
       "      <td>2014-05-02</td>\n",
       "      <td>420000.00</td>\n",
       "      <td>3.00</td>\n",
       "      <td>2.25</td>\n",
       "      <td>1.33</td>\n",
       "      <td>51</td>\n",
       "      <td>1963</td>\n",
       "      <td>1000</td>\n",
       "      <td>1000</td>\n",
       "      <td>2000</td>\n",
       "      <td>...</td>\n",
       "      <td>1.00</td>\n",
       "      <td>0</td>\n",
       "      <td>0</td>\n",
       "      <td>4</td>\n",
       "      <td>0</td>\n",
       "      <td>857 170th Pl NE</td>\n",
       "      <td>Bellevue</td>\n",
       "      <td>WA</td>\n",
       "      <td>98008</td>\n",
       "      <td>USA</td>\n",
       "    </tr>\n",
       "    <tr>\n",
       "      <th>4</th>\n",
       "      <td>2014-05-02</td>\n",
       "      <td>550000.00</td>\n",
       "      <td>4.00</td>\n",
       "      <td>2.50</td>\n",
       "      <td>1.60</td>\n",
       "      <td>38</td>\n",
       "      <td>1976</td>\n",
       "      <td>1140</td>\n",
       "      <td>800</td>\n",
       "      <td>1940</td>\n",
       "      <td>...</td>\n",
       "      <td>1.00</td>\n",
       "      <td>0</td>\n",
       "      <td>0</td>\n",
       "      <td>4</td>\n",
       "      <td>1992</td>\n",
       "      <td>9105 170th Ave NE</td>\n",
       "      <td>Redmond</td>\n",
       "      <td>WA</td>\n",
       "      <td>98052</td>\n",
       "      <td>USA</td>\n",
       "    </tr>\n",
       "  </tbody>\n",
       "</table>\n",
       "<p>5 rows × 21 columns</p>\n",
       "</div>"
      ],
      "text/plain": [
       "         date      price  bedrooms  bathrooms  bd/ba %  age  yr_built  \\\n",
       "0  2014-05-02  313000.00      3.00       1.50     2.00   59      1955   \n",
       "1  2014-05-02 2384000.00      5.00       2.50     2.00   93      1921   \n",
       "2  2014-05-02  342000.00      3.00       2.00     1.50   48      1966   \n",
       "3  2014-05-02  420000.00      3.00       2.25     1.33   51      1963   \n",
       "4  2014-05-02  550000.00      4.00       2.50     1.60   38      1976   \n",
       "\n",
       "   sqft_above  sqft_basement  sqft_living  ...  floors  view  waterfront  \\\n",
       "0        1340              0         1340  ...    1.50     0           0   \n",
       "1        3370            280         3650  ...    2.00     4           0   \n",
       "2        1930              0         1930  ...    1.00     0           0   \n",
       "3        1000           1000         2000  ...    1.00     0           0   \n",
       "4        1140            800         1940  ...    1.00     0           0   \n",
       "\n",
       "   condition  yr_renovated                    street       city state  \\\n",
       "0          3          2005      18810 Densmore Ave N  Shoreline    WA   \n",
       "1          5             0           709 W Blaine St    Seattle    WA   \n",
       "2          4             0  26206-26214 143rd Ave SE       Kent    WA   \n",
       "3          4             0           857 170th Pl NE   Bellevue    WA   \n",
       "4          4          1992         9105 170th Ave NE    Redmond    WA   \n",
       "\n",
       "  zip code  country  \n",
       "0    98133      USA  \n",
       "1    98119      USA  \n",
       "2    98042      USA  \n",
       "3    98008      USA  \n",
       "4    98052      USA  \n",
       "\n",
       "[5 rows x 21 columns]"
      ]
     },
     "execution_count": 411,
     "metadata": {},
     "output_type": "execute_result"
    }
   ],
   "source": [
    "df.head()"
   ]
  },
  {
   "cell_type": "markdown",
   "id": "6ee41754",
   "metadata": {},
   "source": [
    "## 3.5 Pre-Processing the Data<a id='3.5_Pre-Processing_the_Data'></a>"
   ]
  },
  {
   "cell_type": "code",
   "execution_count": 412,
   "id": "20a9908c",
   "metadata": {},
   "outputs": [
    {
     "data": {
      "text/plain": [
       "array(['Shoreline', 'Seattle', 'Kent', 'Bellevue', 'Redmond',\n",
       "       'Maple Valley', 'North Bend', 'Lake Forest Park', 'Sammamish',\n",
       "       'Auburn', 'Des Moines', 'Bothell', 'Federal Way', 'Kirkland',\n",
       "       'Issaquah', 'Woodinville', 'Normandy Park', 'Fall City', 'Renton',\n",
       "       'Carnation', 'Snoqualmie', 'Duvall', 'Burien', 'Covington',\n",
       "       'Inglewood-Finn Hill', 'Kenmore', 'Newcastle', 'Mercer Island',\n",
       "       'Black Diamond', 'Ravensdale', 'Clyde Hill', 'Algona', 'Skykomish',\n",
       "       'Tukwila', 'Vashon', 'Yarrow Point', 'SeaTac', 'Medina',\n",
       "       'Enumclaw', 'Snoqualmie Pass', 'Pacific', 'Beaux Arts Village',\n",
       "       'Preston', 'Milton'], dtype=object)"
      ]
     },
     "execution_count": 412,
     "metadata": {},
     "output_type": "execute_result"
    }
   ],
   "source": [
    "df['city'].unique()"
   ]
  },
  {
   "cell_type": "markdown",
   "id": "03c004b8",
   "metadata": {},
   "source": [
    "Here we have too many different cities & street addresses to do a dummy variable for Linear and Ridge Regression. For the Random Forest model I will give numeric values to each city.\n",
    "\n",
    "Lets now separate the month, day and week for our model from the date column. The year column is all the same, all the homes sold are from data in 2014."
   ]
  },
  {
   "cell_type": "code",
   "execution_count": 414,
   "id": "5ce39141",
   "metadata": {},
   "outputs": [],
   "source": [
    "df['date'] = pd.to_datetime(df['date'], \n",
    " format = '%Y-%m-%dT', errors = 'coerce')"
   ]
  },
  {
   "cell_type": "code",
   "execution_count": 415,
   "id": "b199ade0",
   "metadata": {},
   "outputs": [],
   "source": [
    "df['year'] = df['date'].dt.year\n",
    "df['month'] = df['date'].dt.month\n",
    "df['day'] = df['date'].dt.day\n",
    "df['week'] = df['date'].dt.isocalendar().week"
   ]
  },
  {
   "cell_type": "markdown",
   "id": "ef6cc5f6",
   "metadata": {},
   "source": [
    "### 3.5.1 Renovation Age Column<a id='3.5.1_Renovation_Age_Column'></a>"
   ]
  },
  {
   "cell_type": "markdown",
   "id": "15f3ea45",
   "metadata": {},
   "source": [
    "Now I will create a new column called renovation age. This is when the home was renovated last or never renovated."
   ]
  },
  {
   "cell_type": "code",
   "execution_count": 416,
   "id": "5a538644",
   "metadata": {},
   "outputs": [],
   "source": [
    "df['renovation_age'] = df['year'] - df['yr_renovated']"
   ]
  },
  {
   "cell_type": "code",
   "execution_count": 417,
   "id": "ed9fbf0c",
   "metadata": {},
   "outputs": [],
   "source": [
    "df['renovation_age'] = df['renovation_age'].replace(2014, 0)"
   ]
  },
  {
   "cell_type": "code",
   "execution_count": 418,
   "id": "5a725e3c",
   "metadata": {},
   "outputs": [
    {
     "data": {
      "text/html": [
       "<div>\n",
       "<style scoped>\n",
       "    .dataframe tbody tr th:only-of-type {\n",
       "        vertical-align: middle;\n",
       "    }\n",
       "\n",
       "    .dataframe tbody tr th {\n",
       "        vertical-align: top;\n",
       "    }\n",
       "\n",
       "    .dataframe thead th {\n",
       "        text-align: right;\n",
       "    }\n",
       "</style>\n",
       "<table border=\"1\" class=\"dataframe\">\n",
       "  <thead>\n",
       "    <tr style=\"text-align: right;\">\n",
       "      <th></th>\n",
       "      <th>date</th>\n",
       "      <th>price</th>\n",
       "      <th>bedrooms</th>\n",
       "      <th>bathrooms</th>\n",
       "      <th>bd/ba %</th>\n",
       "      <th>age</th>\n",
       "      <th>yr_built</th>\n",
       "      <th>sqft_above</th>\n",
       "      <th>sqft_basement</th>\n",
       "      <th>sqft_living</th>\n",
       "      <th>...</th>\n",
       "      <th>street</th>\n",
       "      <th>city</th>\n",
       "      <th>state</th>\n",
       "      <th>zip code</th>\n",
       "      <th>country</th>\n",
       "      <th>year</th>\n",
       "      <th>month</th>\n",
       "      <th>day</th>\n",
       "      <th>week</th>\n",
       "      <th>renovation_age</th>\n",
       "    </tr>\n",
       "  </thead>\n",
       "  <tbody>\n",
       "    <tr>\n",
       "      <th>0</th>\n",
       "      <td>2014-05-02</td>\n",
       "      <td>313000.00</td>\n",
       "      <td>3.00</td>\n",
       "      <td>1.50</td>\n",
       "      <td>2.00</td>\n",
       "      <td>59</td>\n",
       "      <td>1955</td>\n",
       "      <td>1340</td>\n",
       "      <td>0</td>\n",
       "      <td>1340</td>\n",
       "      <td>...</td>\n",
       "      <td>18810 Densmore Ave N</td>\n",
       "      <td>Shoreline</td>\n",
       "      <td>WA</td>\n",
       "      <td>98133</td>\n",
       "      <td>USA</td>\n",
       "      <td>2014</td>\n",
       "      <td>5</td>\n",
       "      <td>2</td>\n",
       "      <td>18</td>\n",
       "      <td>9</td>\n",
       "    </tr>\n",
       "    <tr>\n",
       "      <th>1</th>\n",
       "      <td>2014-05-02</td>\n",
       "      <td>2384000.00</td>\n",
       "      <td>5.00</td>\n",
       "      <td>2.50</td>\n",
       "      <td>2.00</td>\n",
       "      <td>93</td>\n",
       "      <td>1921</td>\n",
       "      <td>3370</td>\n",
       "      <td>280</td>\n",
       "      <td>3650</td>\n",
       "      <td>...</td>\n",
       "      <td>709 W Blaine St</td>\n",
       "      <td>Seattle</td>\n",
       "      <td>WA</td>\n",
       "      <td>98119</td>\n",
       "      <td>USA</td>\n",
       "      <td>2014</td>\n",
       "      <td>5</td>\n",
       "      <td>2</td>\n",
       "      <td>18</td>\n",
       "      <td>0</td>\n",
       "    </tr>\n",
       "    <tr>\n",
       "      <th>2</th>\n",
       "      <td>2014-05-02</td>\n",
       "      <td>342000.00</td>\n",
       "      <td>3.00</td>\n",
       "      <td>2.00</td>\n",
       "      <td>1.50</td>\n",
       "      <td>48</td>\n",
       "      <td>1966</td>\n",
       "      <td>1930</td>\n",
       "      <td>0</td>\n",
       "      <td>1930</td>\n",
       "      <td>...</td>\n",
       "      <td>26206-26214 143rd Ave SE</td>\n",
       "      <td>Kent</td>\n",
       "      <td>WA</td>\n",
       "      <td>98042</td>\n",
       "      <td>USA</td>\n",
       "      <td>2014</td>\n",
       "      <td>5</td>\n",
       "      <td>2</td>\n",
       "      <td>18</td>\n",
       "      <td>0</td>\n",
       "    </tr>\n",
       "  </tbody>\n",
       "</table>\n",
       "<p>3 rows × 26 columns</p>\n",
       "</div>"
      ],
      "text/plain": [
       "        date      price  bedrooms  bathrooms  bd/ba %  age  yr_built  \\\n",
       "0 2014-05-02  313000.00      3.00       1.50     2.00   59      1955   \n",
       "1 2014-05-02 2384000.00      5.00       2.50     2.00   93      1921   \n",
       "2 2014-05-02  342000.00      3.00       2.00     1.50   48      1966   \n",
       "\n",
       "   sqft_above  sqft_basement  sqft_living  ...                    street  \\\n",
       "0        1340              0         1340  ...      18810 Densmore Ave N   \n",
       "1        3370            280         3650  ...           709 W Blaine St   \n",
       "2        1930              0         1930  ...  26206-26214 143rd Ave SE   \n",
       "\n",
       "        city  state  zip code  country  year month day week  renovation_age  \n",
       "0  Shoreline     WA     98133      USA  2014     5   2   18               9  \n",
       "1    Seattle     WA     98119      USA  2014     5   2   18               0  \n",
       "2       Kent     WA     98042      USA  2014     5   2   18               0  \n",
       "\n",
       "[3 rows x 26 columns]"
      ]
     },
     "execution_count": 418,
     "metadata": {},
     "output_type": "execute_result"
    }
   ],
   "source": [
    "df.head(3)"
   ]
  },
  {
   "cell_type": "markdown",
   "id": "ccaaa402",
   "metadata": {},
   "source": [
    "### 3.5.2 bd/ba % NaNs<a id='3.5.2_bd/ba_%_NaNs'></a>"
   ]
  },
  {
   "cell_type": "markdown",
   "id": "c2ce639c",
   "metadata": {},
   "source": [
    "I need to fix up the Bed/Bathrooms % column. Two of the entries have NaN values."
   ]
  },
  {
   "cell_type": "code",
   "execution_count": 419,
   "id": "31145e3e",
   "metadata": {},
   "outputs": [
    {
     "data": {
      "text/html": [
       "<div>\n",
       "<style scoped>\n",
       "    .dataframe tbody tr th:only-of-type {\n",
       "        vertical-align: middle;\n",
       "    }\n",
       "\n",
       "    .dataframe tbody tr th {\n",
       "        vertical-align: top;\n",
       "    }\n",
       "\n",
       "    .dataframe thead th {\n",
       "        text-align: right;\n",
       "    }\n",
       "</style>\n",
       "<table border=\"1\" class=\"dataframe\">\n",
       "  <thead>\n",
       "    <tr style=\"text-align: right;\">\n",
       "      <th></th>\n",
       "      <th>date</th>\n",
       "      <th>price</th>\n",
       "      <th>bedrooms</th>\n",
       "      <th>bathrooms</th>\n",
       "      <th>bd/ba %</th>\n",
       "      <th>age</th>\n",
       "      <th>yr_built</th>\n",
       "      <th>sqft_above</th>\n",
       "      <th>sqft_basement</th>\n",
       "      <th>sqft_living</th>\n",
       "      <th>...</th>\n",
       "      <th>street</th>\n",
       "      <th>city</th>\n",
       "      <th>state</th>\n",
       "      <th>zip code</th>\n",
       "      <th>country</th>\n",
       "      <th>year</th>\n",
       "      <th>month</th>\n",
       "      <th>day</th>\n",
       "      <th>week</th>\n",
       "      <th>renovation_age</th>\n",
       "    </tr>\n",
       "  </thead>\n",
       "  <tbody>\n",
       "    <tr>\n",
       "      <th>2365</th>\n",
       "      <td>2014-06-12</td>\n",
       "      <td>1095000.00</td>\n",
       "      <td>0.00</td>\n",
       "      <td>0.00</td>\n",
       "      <td>NaN</td>\n",
       "      <td>24</td>\n",
       "      <td>1990</td>\n",
       "      <td>3064</td>\n",
       "      <td>0</td>\n",
       "      <td>3064</td>\n",
       "      <td>...</td>\n",
       "      <td>814 E Howe St</td>\n",
       "      <td>Seattle</td>\n",
       "      <td>WA</td>\n",
       "      <td>98102</td>\n",
       "      <td>USA</td>\n",
       "      <td>2014</td>\n",
       "      <td>6</td>\n",
       "      <td>12</td>\n",
       "      <td>24</td>\n",
       "      <td>5</td>\n",
       "    </tr>\n",
       "    <tr>\n",
       "      <th>3209</th>\n",
       "      <td>2014-06-24</td>\n",
       "      <td>1295648.00</td>\n",
       "      <td>0.00</td>\n",
       "      <td>0.00</td>\n",
       "      <td>NaN</td>\n",
       "      <td>24</td>\n",
       "      <td>1990</td>\n",
       "      <td>4810</td>\n",
       "      <td>0</td>\n",
       "      <td>4810</td>\n",
       "      <td>...</td>\n",
       "      <td>20418 NE 64th Pl</td>\n",
       "      <td>Redmond</td>\n",
       "      <td>WA</td>\n",
       "      <td>98053</td>\n",
       "      <td>USA</td>\n",
       "      <td>2014</td>\n",
       "      <td>6</td>\n",
       "      <td>24</td>\n",
       "      <td>26</td>\n",
       "      <td>5</td>\n",
       "    </tr>\n",
       "  </tbody>\n",
       "</table>\n",
       "<p>2 rows × 26 columns</p>\n",
       "</div>"
      ],
      "text/plain": [
       "           date      price  bedrooms  bathrooms  bd/ba %  age  yr_built  \\\n",
       "2365 2014-06-12 1095000.00      0.00       0.00      NaN   24      1990   \n",
       "3209 2014-06-24 1295648.00      0.00       0.00      NaN   24      1990   \n",
       "\n",
       "      sqft_above  sqft_basement  sqft_living  ...            street     city  \\\n",
       "2365        3064              0         3064  ...     814 E Howe St  Seattle   \n",
       "3209        4810              0         4810  ...  20418 NE 64th Pl  Redmond   \n",
       "\n",
       "      state  zip code  country  year month day week  renovation_age  \n",
       "2365     WA     98102      USA  2014     6  12   24               5  \n",
       "3209     WA     98053      USA  2014     6  24   26               5  \n",
       "\n",
       "[2 rows x 26 columns]"
      ]
     },
     "execution_count": 419,
     "metadata": {},
     "output_type": "execute_result"
    }
   ],
   "source": [
    "df[df['bd/ba %'].isna()]"
   ]
  },
  {
   "cell_type": "code",
   "execution_count": 420,
   "id": "c0fa8fc9",
   "metadata": {},
   "outputs": [],
   "source": [
    "df['bd/ba %'] = df['bd/ba %'].replace(np.nan, 0)"
   ]
  },
  {
   "cell_type": "markdown",
   "id": "d17badbe",
   "metadata": {},
   "source": [
    "## 3.6 Train/Test Split<a id='3.6_Train/Test_Split'></a>"
   ]
  },
  {
   "cell_type": "markdown",
   "id": "7736a415",
   "metadata": {},
   "source": [
    "Now I will do a 70% Train/ 30% Test on the housing data. We will set aside data, which is the actual test to evaluate our model performance. A train/test split is helpful to check in on future performance that we predict. Lets see what the size of the train/test split will be."
   ]
  },
  {
   "cell_type": "code",
   "execution_count": 421,
   "id": "be9cfd71",
   "metadata": {},
   "outputs": [
    {
     "data": {
      "text/plain": [
       "(3220.0, 1380.0)"
      ]
     },
     "execution_count": 421,
     "metadata": {},
     "output_type": "execute_result"
    }
   ],
   "source": [
    "len(df) * .7, len(df) * .3"
   ]
  },
  {
   "cell_type": "markdown",
   "id": "a70858c8",
   "metadata": {},
   "source": [
    "I need to get dummies for the View and Condition colmuns for Linear Regression, Ridge Regression and the XGB Regression models."
   ]
  },
  {
   "cell_type": "code",
   "execution_count": 558,
   "id": "7e8aa8a8",
   "metadata": {},
   "outputs": [],
   "source": [
    "encode = pd.get_dummies(df, columns=['view', 'condition'])"
   ]
  },
  {
   "cell_type": "code",
   "execution_count": 559,
   "id": "ec82d4cd",
   "metadata": {},
   "outputs": [
    {
     "data": {
      "text/html": [
       "<div>\n",
       "<style scoped>\n",
       "    .dataframe tbody tr th:only-of-type {\n",
       "        vertical-align: middle;\n",
       "    }\n",
       "\n",
       "    .dataframe tbody tr th {\n",
       "        vertical-align: top;\n",
       "    }\n",
       "\n",
       "    .dataframe thead th {\n",
       "        text-align: right;\n",
       "    }\n",
       "</style>\n",
       "<table border=\"1\" class=\"dataframe\">\n",
       "  <thead>\n",
       "    <tr style=\"text-align: right;\">\n",
       "      <th></th>\n",
       "      <th>date</th>\n",
       "      <th>price</th>\n",
       "      <th>bedrooms</th>\n",
       "      <th>bathrooms</th>\n",
       "      <th>bd/ba %</th>\n",
       "      <th>age</th>\n",
       "      <th>yr_built</th>\n",
       "      <th>sqft_above</th>\n",
       "      <th>sqft_basement</th>\n",
       "      <th>sqft_living</th>\n",
       "      <th>...</th>\n",
       "      <th>view_0</th>\n",
       "      <th>view_1</th>\n",
       "      <th>view_2</th>\n",
       "      <th>view_3</th>\n",
       "      <th>view_4</th>\n",
       "      <th>condition_1</th>\n",
       "      <th>condition_2</th>\n",
       "      <th>condition_3</th>\n",
       "      <th>condition_4</th>\n",
       "      <th>condition_5</th>\n",
       "    </tr>\n",
       "  </thead>\n",
       "  <tbody>\n",
       "    <tr>\n",
       "      <th>0</th>\n",
       "      <td>2014-05-02</td>\n",
       "      <td>313000.00</td>\n",
       "      <td>3.00</td>\n",
       "      <td>1.50</td>\n",
       "      <td>2.00</td>\n",
       "      <td>59</td>\n",
       "      <td>1955</td>\n",
       "      <td>1340</td>\n",
       "      <td>0</td>\n",
       "      <td>1340</td>\n",
       "      <td>...</td>\n",
       "      <td>1</td>\n",
       "      <td>0</td>\n",
       "      <td>0</td>\n",
       "      <td>0</td>\n",
       "      <td>0</td>\n",
       "      <td>0</td>\n",
       "      <td>0</td>\n",
       "      <td>1</td>\n",
       "      <td>0</td>\n",
       "      <td>0</td>\n",
       "    </tr>\n",
       "    <tr>\n",
       "      <th>1</th>\n",
       "      <td>2014-05-02</td>\n",
       "      <td>2384000.00</td>\n",
       "      <td>5.00</td>\n",
       "      <td>2.50</td>\n",
       "      <td>2.00</td>\n",
       "      <td>93</td>\n",
       "      <td>1921</td>\n",
       "      <td>3370</td>\n",
       "      <td>280</td>\n",
       "      <td>3650</td>\n",
       "      <td>...</td>\n",
       "      <td>0</td>\n",
       "      <td>0</td>\n",
       "      <td>0</td>\n",
       "      <td>0</td>\n",
       "      <td>1</td>\n",
       "      <td>0</td>\n",
       "      <td>0</td>\n",
       "      <td>0</td>\n",
       "      <td>0</td>\n",
       "      <td>1</td>\n",
       "    </tr>\n",
       "    <tr>\n",
       "      <th>2</th>\n",
       "      <td>2014-05-02</td>\n",
       "      <td>342000.00</td>\n",
       "      <td>3.00</td>\n",
       "      <td>2.00</td>\n",
       "      <td>1.50</td>\n",
       "      <td>48</td>\n",
       "      <td>1966</td>\n",
       "      <td>1930</td>\n",
       "      <td>0</td>\n",
       "      <td>1930</td>\n",
       "      <td>...</td>\n",
       "      <td>1</td>\n",
       "      <td>0</td>\n",
       "      <td>0</td>\n",
       "      <td>0</td>\n",
       "      <td>0</td>\n",
       "      <td>0</td>\n",
       "      <td>0</td>\n",
       "      <td>0</td>\n",
       "      <td>1</td>\n",
       "      <td>0</td>\n",
       "    </tr>\n",
       "    <tr>\n",
       "      <th>3</th>\n",
       "      <td>2014-05-02</td>\n",
       "      <td>420000.00</td>\n",
       "      <td>3.00</td>\n",
       "      <td>2.25</td>\n",
       "      <td>1.33</td>\n",
       "      <td>51</td>\n",
       "      <td>1963</td>\n",
       "      <td>1000</td>\n",
       "      <td>1000</td>\n",
       "      <td>2000</td>\n",
       "      <td>...</td>\n",
       "      <td>1</td>\n",
       "      <td>0</td>\n",
       "      <td>0</td>\n",
       "      <td>0</td>\n",
       "      <td>0</td>\n",
       "      <td>0</td>\n",
       "      <td>0</td>\n",
       "      <td>0</td>\n",
       "      <td>1</td>\n",
       "      <td>0</td>\n",
       "    </tr>\n",
       "    <tr>\n",
       "      <th>4</th>\n",
       "      <td>2014-05-02</td>\n",
       "      <td>550000.00</td>\n",
       "      <td>4.00</td>\n",
       "      <td>2.50</td>\n",
       "      <td>1.60</td>\n",
       "      <td>38</td>\n",
       "      <td>1976</td>\n",
       "      <td>1140</td>\n",
       "      <td>800</td>\n",
       "      <td>1940</td>\n",
       "      <td>...</td>\n",
       "      <td>1</td>\n",
       "      <td>0</td>\n",
       "      <td>0</td>\n",
       "      <td>0</td>\n",
       "      <td>0</td>\n",
       "      <td>0</td>\n",
       "      <td>0</td>\n",
       "      <td>0</td>\n",
       "      <td>1</td>\n",
       "      <td>0</td>\n",
       "    </tr>\n",
       "  </tbody>\n",
       "</table>\n",
       "<p>5 rows × 34 columns</p>\n",
       "</div>"
      ],
      "text/plain": [
       "        date      price  bedrooms  bathrooms  bd/ba %  age  yr_built  \\\n",
       "0 2014-05-02  313000.00      3.00       1.50     2.00   59      1955   \n",
       "1 2014-05-02 2384000.00      5.00       2.50     2.00   93      1921   \n",
       "2 2014-05-02  342000.00      3.00       2.00     1.50   48      1966   \n",
       "3 2014-05-02  420000.00      3.00       2.25     1.33   51      1963   \n",
       "4 2014-05-02  550000.00      4.00       2.50     1.60   38      1976   \n",
       "\n",
       "   sqft_above  sqft_basement  sqft_living  ...  view_0  view_1  view_2  \\\n",
       "0        1340              0         1340  ...       1       0       0   \n",
       "1        3370            280         3650  ...       0       0       0   \n",
       "2        1930              0         1930  ...       1       0       0   \n",
       "3        1000           1000         2000  ...       1       0       0   \n",
       "4        1140            800         1940  ...       1       0       0   \n",
       "\n",
       "   view_3 view_4  condition_1 condition_2  condition_3 condition_4  \\\n",
       "0       0      0            0           0            1           0   \n",
       "1       0      1            0           0            0           0   \n",
       "2       0      0            0           0            0           1   \n",
       "3       0      0            0           0            0           1   \n",
       "4       0      0            0           0            0           1   \n",
       "\n",
       "   condition_5  \n",
       "0            0  \n",
       "1            1  \n",
       "2            0  \n",
       "3            0  \n",
       "4            0  \n",
       "\n",
       "[5 rows x 34 columns]"
      ]
     },
     "execution_count": 559,
     "metadata": {},
     "output_type": "execute_result"
    }
   ],
   "source": [
    "encode.head()"
   ]
  },
  {
   "cell_type": "markdown",
   "id": "0a9d2bba",
   "metadata": {},
   "source": [
    "First I need to create the X/independent variables for our model to predict the Y/dependent variable."
   ]
  },
  {
   "cell_type": "code",
   "execution_count": 562,
   "id": "3018f077",
   "metadata": {},
   "outputs": [],
   "source": [
    "features= encode.drop(['date','price','street','yr_built','zip code','country','city',\n",
    "                       'state','yr_renovated'],axis=1)"
   ]
  },
  {
   "cell_type": "code",
   "execution_count": 563,
   "id": "0f290abb",
   "metadata": {},
   "outputs": [],
   "source": [
    "X_train, X_test, y_train, y_test = train_test_split(features, df['price'],test_size=0.3, \n",
    "                                                    random_state=47)"
   ]
  },
  {
   "cell_type": "markdown",
   "id": "86a17c76",
   "metadata": {},
   "source": [
    "Lets look at the shape of our X & Y train and test splits."
   ]
  },
  {
   "cell_type": "code",
   "execution_count": 565,
   "id": "0722fca3",
   "metadata": {},
   "outputs": [
    {
     "data": {
      "text/plain": [
       "((3220, 25), (1380, 25))"
      ]
     },
     "execution_count": 565,
     "metadata": {},
     "output_type": "execute_result"
    }
   ],
   "source": [
    "X_train.shape, X_test.shape"
   ]
  },
  {
   "cell_type": "code",
   "execution_count": 566,
   "id": "4ee2c8bf",
   "metadata": {},
   "outputs": [
    {
     "data": {
      "text/plain": [
       "((3220,), (1380,))"
      ]
     },
     "execution_count": 566,
     "metadata": {},
     "output_type": "execute_result"
    }
   ],
   "source": [
    "y_train.shape, y_test.shape"
   ]
  },
  {
   "cell_type": "code",
   "execution_count": 567,
   "id": "3a055f64",
   "metadata": {},
   "outputs": [
    {
     "data": {
      "text/plain": [
       "bedrooms          float64\n",
       "bathrooms         float64\n",
       "bd/ba %           float64\n",
       "age                 int64\n",
       "sqft_above          int64\n",
       "sqft_basement       int64\n",
       "sqft_living         int64\n",
       "sqft_lot            int64\n",
       "floors            float64\n",
       "waterfront          int64\n",
       "year                int64\n",
       "month               int64\n",
       "day                 int64\n",
       "week               UInt32\n",
       "renovation_age      int64\n",
       "view_0              uint8\n",
       "view_1              uint8\n",
       "view_2              uint8\n",
       "view_3              uint8\n",
       "view_4              uint8\n",
       "condition_1         uint8\n",
       "condition_2         uint8\n",
       "condition_3         uint8\n",
       "condition_4         uint8\n",
       "condition_5         uint8\n",
       "dtype: object"
      ]
     },
     "execution_count": 567,
     "metadata": {},
     "output_type": "execute_result"
    }
   ],
   "source": [
    "X_train.dtypes"
   ]
  },
  {
   "cell_type": "markdown",
   "id": "34b5d866",
   "metadata": {},
   "source": [
    "All of our varibles are in a numeric value!"
   ]
  },
  {
   "cell_type": "markdown",
   "id": "790d1efe",
   "metadata": {},
   "source": [
    "## 3.7 Linear Regression<a id='3.7_Linear_Regression'></a>"
   ]
  },
  {
   "cell_type": "markdown",
   "id": "98040e1a",
   "metadata": {},
   "source": [
    "Lets start with a Linear Regression pipeline model."
   ]
  },
  {
   "cell_type": "code",
   "execution_count": 568,
   "id": "9fcfea65",
   "metadata": {},
   "outputs": [],
   "source": [
    "lr_pipeline=make_pipeline(StandardScaler(),\n",
    "    LinearRegression())"
   ]
  },
  {
   "cell_type": "code",
   "execution_count": 569,
   "id": "89dc3938",
   "metadata": {},
   "outputs": [
    {
     "data": {
      "text/plain": [
       "Pipeline(steps=[('standardscaler', StandardScaler()),\n",
       "                ('linearregression', LinearRegression())])"
      ]
     },
     "execution_count": 569,
     "metadata": {},
     "output_type": "execute_result"
    }
   ],
   "source": [
    "lr_pipeline.fit(X_train, y_train)"
   ]
  },
  {
   "cell_type": "code",
   "execution_count": 570,
   "id": "4f4838e5",
   "metadata": {},
   "outputs": [
    {
     "name": "stdout",
     "output_type": "stream",
     "text": [
      "[628503.91805971 501527.91805971 507671.91805971 ... 524055.91805971\n",
      " 644887.91805971 323351.91805971]\n"
     ]
    }
   ],
   "source": [
    "y_te_pred = lr_pipeline.predict(X_test)\n",
    "print(y_te_pred)"
   ]
  },
  {
   "cell_type": "code",
   "execution_count": 571,
   "id": "4d639702",
   "metadata": {},
   "outputs": [
    {
     "name": "stdout",
     "output_type": "stream",
     "text": [
      "[2418455.91805971 1891607.91805971  364311.91805971 ...  466711.91805971\n",
      "  474903.91805971  454423.91805971]\n"
     ]
    }
   ],
   "source": [
    "y_tr_pred = lr_pipeline.predict(X_train)\n",
    "print(y_tr_pred)"
   ]
  },
  {
   "cell_type": "markdown",
   "id": "1dd4b6ed",
   "metadata": {},
   "source": [
    "### 3.7.1 LR Metrics<a id='3.7.1_LR_Metrics'></a>"
   ]
  },
  {
   "cell_type": "code",
   "execution_count": 572,
   "id": "2da1b973",
   "metadata": {},
   "outputs": [],
   "source": [
    "r2_test_lr = r2_score(y_test,y_te_pred)\n",
    "mse_test_lr = mean_squared_error(y_test, y_te_pred)\n",
    "rmse_test_lr = sqrt(mse_test_lr)\n",
    "mae_test_lr = mean_absolute_error(y_test, y_te_pred)"
   ]
  },
  {
   "cell_type": "code",
   "execution_count": 573,
   "id": "56e2ef0f",
   "metadata": {},
   "outputs": [
    {
     "name": "stdout",
     "output_type": "stream",
     "text": [
      "R2 Score:  0.46965718257726086\n",
      "MSE:  61734606846.020485\n",
      "RMSE:  248464.49816024117\n",
      "MAE:  164817.44813336252\n"
     ]
    }
   ],
   "source": [
    "print('R2 Score: ', r2_test_lr)\n",
    "print('MSE: ', mse_test_lr)\n",
    "print('RMSE: ', rmse_test_lr)\n",
    "print('MAE: ', mae_test_lr)"
   ]
  },
  {
   "cell_type": "markdown",
   "id": "6434c84d",
   "metadata": {},
   "source": [
    "This score is low for a prediction model"
   ]
  },
  {
   "cell_type": "code",
   "execution_count": 574,
   "id": "2129454f",
   "metadata": {},
   "outputs": [],
   "source": [
    "r2_train_lr = r2_score(y_train,y_tr_pred)\n",
    "mse_train_lr = mean_squared_error(y_train, y_tr_pred)\n",
    "rmse_train_lr = sqrt(mse_train_lr)\n",
    "mae_train_lr = mean_absolute_error(y_train, y_tr_pred)"
   ]
  },
  {
   "cell_type": "code",
   "execution_count": 575,
   "id": "858badf1",
   "metadata": {},
   "outputs": [
    {
     "name": "stdout",
     "output_type": "stream",
     "text": [
      "R2 Score:  0.1855539551564973\n",
      "MSE:  329085656128.6325\n",
      "RMSE:  573659.878437243\n",
      "MAE:  173296.70994937117\n"
     ]
    }
   ],
   "source": [
    "print('R2 Score: ', r2_train_lr)\n",
    "print('MSE: ', mse_train_lr)\n",
    "print('RMSE: ', rmse_train_lr)\n",
    "print('MAE: ', mae_train_lr)"
   ]
  },
  {
   "cell_type": "markdown",
   "id": "489ebc08",
   "metadata": {},
   "source": [
    "The training set R2 score is lower than the test. This means that the model is underfitting the test data."
   ]
  },
  {
   "cell_type": "code",
   "execution_count": 587,
   "id": "5a08d071",
   "metadata": {},
   "outputs": [],
   "source": [
    "lr_table=pd.DataFrame({'Test':[r2_test_lr, mse_test_lr, rmse_test_lr, mae_test_lr],\n",
    "                    'Training': [r2_train_lr, mse_train_lr, rmse_train_lr, mae_train_lr]},\n",
    "                     index=['R2', 'MSE', 'RMSE', 'MAE'])"
   ]
  },
  {
   "cell_type": "code",
   "execution_count": 588,
   "id": "64c3226b",
   "metadata": {},
   "outputs": [
    {
     "data": {
      "text/html": [
       "<div>\n",
       "<style scoped>\n",
       "    .dataframe tbody tr th:only-of-type {\n",
       "        vertical-align: middle;\n",
       "    }\n",
       "\n",
       "    .dataframe tbody tr th {\n",
       "        vertical-align: top;\n",
       "    }\n",
       "\n",
       "    .dataframe thead th {\n",
       "        text-align: right;\n",
       "    }\n",
       "</style>\n",
       "<table border=\"1\" class=\"dataframe\">\n",
       "  <thead>\n",
       "    <tr style=\"text-align: right;\">\n",
       "      <th></th>\n",
       "      <th>Test</th>\n",
       "      <th>Training</th>\n",
       "    </tr>\n",
       "  </thead>\n",
       "  <tbody>\n",
       "    <tr>\n",
       "      <th>R2</th>\n",
       "      <td>0.47</td>\n",
       "      <td>0.19</td>\n",
       "    </tr>\n",
       "    <tr>\n",
       "      <th>MSE</th>\n",
       "      <td>61734606846.02</td>\n",
       "      <td>329085656128.63</td>\n",
       "    </tr>\n",
       "    <tr>\n",
       "      <th>RMSE</th>\n",
       "      <td>248464.50</td>\n",
       "      <td>573659.88</td>\n",
       "    </tr>\n",
       "    <tr>\n",
       "      <th>MAE</th>\n",
       "      <td>164817.45</td>\n",
       "      <td>173296.71</td>\n",
       "    </tr>\n",
       "  </tbody>\n",
       "</table>\n",
       "</div>"
      ],
      "text/plain": [
       "               Test        Training\n",
       "R2             0.47            0.19\n",
       "MSE  61734606846.02 329085656128.63\n",
       "RMSE      248464.50       573659.88\n",
       "MAE       164817.45       173296.71"
      ]
     },
     "execution_count": 588,
     "metadata": {},
     "output_type": "execute_result"
    }
   ],
   "source": [
    "lr_table"
   ]
  },
  {
   "cell_type": "markdown",
   "id": "3134f623",
   "metadata": {},
   "source": [
    "These statistics are not very favorable for predicting the price of a home."
   ]
  },
  {
   "cell_type": "markdown",
   "id": "95c591dd",
   "metadata": {},
   "source": [
    "### 3.7.2 Cross Validation of Linear Regression<a id='3.7.2_Cross_Validation_of_Linear_Regression'></a>"
   ]
  },
  {
   "cell_type": "code",
   "execution_count": 576,
   "id": "ecbeaff4",
   "metadata": {},
   "outputs": [
    {
     "data": {
      "text/plain": [
       "{'fit_time': array([0.01699162, 0.01397467, 0.01399183, 0.01599169, 0.01499295,\n",
       "        0.01399493, 0.00999427, 0.01399326, 0.01099467, 0.01698923]),\n",
       " 'score_time': array([0.00601101, 0.00299764, 0.00499868, 0.00399709, 0.00499487,\n",
       "        0.00199628, 0.00499582, 0.00299764, 0.00399637, 0.00399709]),\n",
       " 'test_score': array([ 0.5920096 ,  0.57684533,  0.13968156,  0.40049369,  0.38165976,\n",
       "         0.34183103,  0.55054558,  0.6245825 , -0.00588385,  0.5294712 ])}"
      ]
     },
     "execution_count": 576,
     "metadata": {},
     "output_type": "execute_result"
    }
   ],
   "source": [
    "cv_results_lr = cross_validate(lr_pipeline, X_train, y_train, cv=10)\n",
    "cv_results_lr"
   ]
  },
  {
   "cell_type": "code",
   "execution_count": 577,
   "id": "df204065",
   "metadata": {},
   "outputs": [
    {
     "data": {
      "text/plain": [
       "array([ 0.5920096 ,  0.57684533,  0.13968156,  0.40049369,  0.38165976,\n",
       "        0.34183103,  0.55054558,  0.6245825 , -0.00588385,  0.5294712 ])"
      ]
     },
     "execution_count": 577,
     "metadata": {},
     "output_type": "execute_result"
    }
   ],
   "source": [
    "cv_scores_lr = cv_results_lr['test_score']\n",
    "cv_scores_lr"
   ]
  },
  {
   "cell_type": "code",
   "execution_count": 578,
   "id": "4087e0df",
   "metadata": {},
   "outputs": [
    {
     "data": {
      "text/plain": [
       "(0.4131236399322528, 0.1981189922324615)"
      ]
     },
     "execution_count": 578,
     "metadata": {},
     "output_type": "execute_result"
    }
   ],
   "source": [
    "np.mean(cv_scores_lr), np.std(cv_scores_lr)"
   ]
  },
  {
   "cell_type": "markdown",
   "id": "8cba5689",
   "metadata": {},
   "source": [
    "The average cross validation score is lower .413 than our original R2 score for Linear Regression."
   ]
  },
  {
   "cell_type": "markdown",
   "id": "c9512f7b",
   "metadata": {},
   "source": [
    "### 3.7.3 Grid Search CV for LR<a id='3.7.3_Grid_Search_CV_for_LR'></a>"
   ]
  },
  {
   "cell_type": "code",
   "execution_count": 579,
   "id": "8c8adf4b",
   "metadata": {},
   "outputs": [],
   "source": [
    "param_grid = {'C': [1000, 10000, 500000], 'max_iter':[20000, 30000, 50000]}"
   ]
  },
  {
   "cell_type": "code",
   "execution_count": 580,
   "id": "5a830069",
   "metadata": {},
   "outputs": [],
   "source": [
    "lr_grid_cv = GridSearchCV(SVR(), param_grid, refit = True, verbose = 3,n_jobs=-1) "
   ]
  },
  {
   "cell_type": "code",
   "execution_count": 581,
   "id": "cd1f4538",
   "metadata": {},
   "outputs": [
    {
     "name": "stdout",
     "output_type": "stream",
     "text": [
      "Fitting 5 folds for each of 9 candidates, totalling 45 fits\n"
     ]
    },
    {
     "data": {
      "text/plain": [
       "GridSearchCV(estimator=SVR(), n_jobs=-1,\n",
       "             param_grid={'C': [1000, 10000, 500000],\n",
       "                         'max_iter': [20000, 30000, 50000]},\n",
       "             verbose=3)"
      ]
     },
     "execution_count": 581,
     "metadata": {},
     "output_type": "execute_result"
    }
   ],
   "source": [
    "lr_grid_cv.fit(X_train, y_train)"
   ]
  },
  {
   "cell_type": "code",
   "execution_count": 582,
   "id": "a53a76cd",
   "metadata": {},
   "outputs": [
    {
     "data": {
      "text/plain": [
       "{'C': 500000, 'max_iter': 20000}"
      ]
     },
     "execution_count": 582,
     "metadata": {},
     "output_type": "execute_result"
    }
   ],
   "source": [
    "lr_grid_cv.best_params_"
   ]
  },
  {
   "cell_type": "code",
   "execution_count": 583,
   "id": "4f5b10ef",
   "metadata": {},
   "outputs": [
    {
     "data": {
      "text/plain": [
       "array([ 0.36074056,  0.43969383,  0.09503574,  0.35492343,  0.40632209,\n",
       "        0.31531083,  0.43707087,  0.52086752, -0.0024624 ,  0.39496169])"
      ]
     },
     "execution_count": 583,
     "metadata": {},
     "output_type": "execute_result"
    }
   ],
   "source": [
    "lr_best_cv_results = cross_validate(lr_grid_cv.best_estimator_, X_train, y_train, cv=10)\n",
    "lr_best_scores = lr_best_cv_results['test_score']\n",
    "lr_best_scores"
   ]
  },
  {
   "cell_type": "code",
   "execution_count": 584,
   "id": "b8848d04",
   "metadata": {},
   "outputs": [
    {
     "data": {
      "text/plain": [
       "(0.33224641549715306, 0.15409195797555822)"
      ]
     },
     "execution_count": 584,
     "metadata": {},
     "output_type": "execute_result"
    }
   ],
   "source": [
    "np.mean(lr_best_scores), np.std(lr_best_scores)"
   ]
  },
  {
   "cell_type": "markdown",
   "id": "98f7be4e",
   "metadata": {},
   "source": [
    " So this indicates that the model is not a flexible one. Some of the linear relationships between the features and the dependent variable may have been lost. This is also quite clear from the high MSE values and not just for the test set but also for the training set. The grid search mean R2 score was even lower than cross validation R2 score at .332."
   ]
  },
  {
   "cell_type": "markdown",
   "id": "d4d7d93f",
   "metadata": {},
   "source": [
    "## 3.8 Ridge Regression<a id='3.8_Ridge_Regression'></a>"
   ]
  },
  {
   "cell_type": "code",
   "execution_count": 447,
   "id": "3116eb0d",
   "metadata": {},
   "outputs": [],
   "source": [
    "r_pipeline=make_pipeline(\n",
    "    StandardScaler(), \n",
    "    Ridge(alpha=10))"
   ]
  },
  {
   "cell_type": "code",
   "execution_count": 448,
   "id": "5ddd0111",
   "metadata": {},
   "outputs": [
    {
     "data": {
      "text/plain": [
       "Pipeline(steps=[('standardscaler', StandardScaler()),\n",
       "                ('ridge', Ridge(alpha=10))])"
      ]
     },
     "execution_count": 448,
     "metadata": {},
     "output_type": "execute_result"
    }
   ],
   "source": [
    "r_pipeline.fit(X_train, y_train)"
   ]
  },
  {
   "cell_type": "code",
   "execution_count": 449,
   "id": "24ac1e7d",
   "metadata": {},
   "outputs": [
    {
     "name": "stdout",
     "output_type": "stream",
     "text": [
      "[652469.00685731 469446.68222105 513795.87995955 ... 527792.76632784\n",
      " 626678.12625959 290267.00976078]\n"
     ]
    }
   ],
   "source": [
    "y_te_pred_r = r_pipeline.predict(X_test)\n",
    "print(y_te_pred_r)"
   ]
  },
  {
   "cell_type": "code",
   "execution_count": 450,
   "id": "d2362343",
   "metadata": {},
   "outputs": [
    {
     "name": "stdout",
     "output_type": "stream",
     "text": [
      "[2485362.70408175 2013035.08146989  345825.05218298 ...  466858.97695807\n",
      "  462067.55011513  447551.80418501]\n"
     ]
    }
   ],
   "source": [
    "y_tr_pred_r = r_pipeline.predict(X_train)\n",
    "print(y_tr_pred_r)"
   ]
  },
  {
   "cell_type": "markdown",
   "id": "58e3d3c4",
   "metadata": {},
   "source": [
    "### 3.8.1 RR Metrics<a id='3.8.1_RR_Metrics'></a>"
   ]
  },
  {
   "cell_type": "code",
   "execution_count": 451,
   "id": "ad520e8a",
   "metadata": {},
   "outputs": [],
   "source": [
    "r2_test = r2_score(y_test,y_te_pred_r)\n",
    "mse_test = mean_squared_error(y_test, y_te_pred_r)\n",
    "rmse_test = np.sqrt(mse_test)\n",
    "mae_test = mean_absolute_error(y_test, y_te_pred_r)"
   ]
  },
  {
   "cell_type": "code",
   "execution_count": 452,
   "id": "6d5477ce",
   "metadata": {},
   "outputs": [],
   "source": [
    "r2_train_tr = r2_score(y_train,y_tr_pred_r)\n",
    "mse_train_tr = mean_squared_error(y_train, y_tr_pred_r)\n",
    "rmse_train_tr = np.sqrt(mse_test)\n",
    "mae_train_tr = mean_absolute_error(y_train, y_tr_pred_r)"
   ]
  },
  {
   "cell_type": "code",
   "execution_count": 455,
   "id": "cc89fd96",
   "metadata": {},
   "outputs": [
    {
     "name": "stdout",
     "output_type": "stream",
     "text": [
      "R2 Score:  0.4675921933834928\n",
      "MSE:  61974982112.415276\n",
      "RMSE:  248947.749763711\n",
      "MAE:  165587.70739882597\n"
     ]
    }
   ],
   "source": [
    "print('R2 Score: ', r2_test)\n",
    "print('MSE: ', mse_test)\n",
    "print('RMSE: ', rmse_test)\n",
    "print('MAE: ', mae_test)"
   ]
  },
  {
   "cell_type": "code",
   "execution_count": 456,
   "id": "ae17ce35",
   "metadata": {},
   "outputs": [
    {
     "name": "stdout",
     "output_type": "stream",
     "text": [
      "R2 Score:  0.18731302780600578\n",
      "MSE:  328374883965.50824\n",
      "RMSE:  248947.749763711\n",
      "MAE:  173932.0818063621\n"
     ]
    }
   ],
   "source": [
    "print('R2 Score: ', r2_train_tr)\n",
    "print('MSE: ', mse_train_tr)\n",
    "print('RMSE: ', rmse_train_tr)\n",
    "print('MAE: ', mae_train_tr)"
   ]
  },
  {
   "cell_type": "markdown",
   "id": "bc3c1ec9",
   "metadata": {},
   "source": [
    "Once again we get a lower R2 score for both the training and test datasets. This is very similar to the Linear Regression scores."
   ]
  },
  {
   "cell_type": "code",
   "execution_count": null,
   "id": "b7f1f09c",
   "metadata": {},
   "outputs": [],
   "source": [
    "table=pd.DataFrame({'Test':[r2_test, mse_test, rmse_test, mae_test],\n",
    "                    'Training': [r2_train_tr, mse_train_tr, rmse_train_tr, mae_train_tr]},\n",
    "                     index=['R2', 'MSE', 'RMSE', 'MAE'])"
   ]
  },
  {
   "cell_type": "code",
   "execution_count": 622,
   "id": "1f892716",
   "metadata": {},
   "outputs": [
    {
     "data": {
      "text/html": [
       "<div>\n",
       "<style scoped>\n",
       "    .dataframe tbody tr th:only-of-type {\n",
       "        vertical-align: middle;\n",
       "    }\n",
       "\n",
       "    .dataframe tbody tr th {\n",
       "        vertical-align: top;\n",
       "    }\n",
       "\n",
       "    .dataframe thead th {\n",
       "        text-align: right;\n",
       "    }\n",
       "</style>\n",
       "<table border=\"1\" class=\"dataframe\">\n",
       "  <thead>\n",
       "    <tr style=\"text-align: right;\">\n",
       "      <th></th>\n",
       "      <th>Test</th>\n",
       "      <th>Training</th>\n",
       "    </tr>\n",
       "  </thead>\n",
       "  <tbody>\n",
       "    <tr>\n",
       "      <th>R2</th>\n",
       "      <td>0.47</td>\n",
       "      <td>0.19</td>\n",
       "    </tr>\n",
       "    <tr>\n",
       "      <th>MSE</th>\n",
       "      <td>61974982112.42</td>\n",
       "      <td>328374883965.51</td>\n",
       "    </tr>\n",
       "    <tr>\n",
       "      <th>RMSE</th>\n",
       "      <td>248947.75</td>\n",
       "      <td>248947.75</td>\n",
       "    </tr>\n",
       "    <tr>\n",
       "      <th>MAE</th>\n",
       "      <td>165587.71</td>\n",
       "      <td>173932.08</td>\n",
       "    </tr>\n",
       "  </tbody>\n",
       "</table>\n",
       "</div>"
      ],
      "text/plain": [
       "               Test        Training\n",
       "R2             0.47            0.19\n",
       "MSE  61974982112.42 328374883965.51\n",
       "RMSE      248947.75       248947.75\n",
       "MAE       165587.71       173932.08"
      ]
     },
     "execution_count": 622,
     "metadata": {},
     "output_type": "execute_result"
    }
   ],
   "source": [
    "table"
   ]
  },
  {
   "cell_type": "markdown",
   "id": "ec901e93",
   "metadata": {},
   "source": [
    "Here we can see the low R2 score and the high MSE, RMSE, and MAE for both the training and test sets."
   ]
  },
  {
   "cell_type": "markdown",
   "id": "1795024c",
   "metadata": {},
   "source": [
    "### 3.8.2 Cross Validation of Ridge Regression<a id='3.8.2_Cross_Validation_of_Ridge_Regression'></a>"
   ]
  },
  {
   "cell_type": "code",
   "execution_count": 457,
   "id": "554eba9e",
   "metadata": {},
   "outputs": [
    {
     "data": {
      "text/plain": [
       "{'fit_time': array([0.01699138, 0.00999594, 0.01099586, 0.01698756, 0.01399183,\n",
       "        0.00999475, 0.0079968 , 0.00799632, 0.00799561, 0.0099957 ]),\n",
       " 'score_time': array([0.00299716, 0.00199676, 0.00499701, 0.00299835, 0.00399685,\n",
       "        0.00199819, 0.00299811, 0.0039959 , 0.00299811, 0.00199819]),\n",
       " 'test_score': array([ 0.59138638,  0.57728452,  0.14008883,  0.39392291,  0.38549099,\n",
       "         0.34312905,  0.54959919,  0.62643211, -0.00559231,  0.53265065])}"
      ]
     },
     "execution_count": 457,
     "metadata": {},
     "output_type": "execute_result"
    }
   ],
   "source": [
    "cv_results_rr = cross_validate(r_pipeline, X_train, y_train, cv=10)\n",
    "cv_results_rr"
   ]
  },
  {
   "cell_type": "code",
   "execution_count": 458,
   "id": "87e8608c",
   "metadata": {},
   "outputs": [
    {
     "data": {
      "text/plain": [
       "array([ 0.59138638,  0.57728452,  0.14008883,  0.39392291,  0.38549099,\n",
       "        0.34312905,  0.54959919,  0.62643211, -0.00559231,  0.53265065])"
      ]
     },
     "execution_count": 458,
     "metadata": {},
     "output_type": "execute_result"
    }
   ],
   "source": [
    "cv_scores_rr = cv_results_rr['test_score']\n",
    "cv_scores_rr"
   ]
  },
  {
   "cell_type": "code",
   "execution_count": 459,
   "id": "5e50391c",
   "metadata": {},
   "outputs": [
    {
     "data": {
      "text/plain": [
       "(0.41343923266752886, 0.1982525443067596)"
      ]
     },
     "execution_count": 459,
     "metadata": {},
     "output_type": "execute_result"
    }
   ],
   "source": [
    "np.mean(cv_scores_rr), np.std(cv_scores_rr)"
   ]
  },
  {
   "cell_type": "markdown",
   "id": "28993966",
   "metadata": {},
   "source": [
    "Very similar to the cross validation standard deviation and the R2 score from Linear Regression."
   ]
  },
  {
   "cell_type": "markdown",
   "id": "30cf376b",
   "metadata": {},
   "source": [
    "### 3.8.3 Grid Search CV for RR<a id='3.8.3_Grid_Search_CV_for_RR'></a>"
   ]
  },
  {
   "cell_type": "code",
   "execution_count": 460,
   "id": "7fdd2439",
   "metadata": {},
   "outputs": [],
   "source": [
    "param_grid = {'alpha': [0.1, 50, 100, 1000],\n",
    "              'max_iter': [5000, 10000, 50000]}  "
   ]
  },
  {
   "cell_type": "code",
   "execution_count": 461,
   "id": "0343c290",
   "metadata": {},
   "outputs": [],
   "source": [
    "rr_grid_cv = GridSearchCV(Ridge(), param_grid, refit = True, verbose = 3,n_jobs=-1) "
   ]
  },
  {
   "cell_type": "code",
   "execution_count": 462,
   "id": "78268688",
   "metadata": {},
   "outputs": [
    {
     "name": "stdout",
     "output_type": "stream",
     "text": [
      "Fitting 5 folds for each of 12 candidates, totalling 60 fits\n"
     ]
    },
    {
     "data": {
      "text/plain": [
       "GridSearchCV(estimator=Ridge(), n_jobs=-1,\n",
       "             param_grid={'alpha': [0.1, 50, 100, 1000],\n",
       "                         'max_iter': [5000, 10000, 50000]},\n",
       "             verbose=3)"
      ]
     },
     "execution_count": 462,
     "metadata": {},
     "output_type": "execute_result"
    }
   ],
   "source": [
    "rr_grid_cv.fit(X_train, y_train)"
   ]
  },
  {
   "cell_type": "code",
   "execution_count": 463,
   "id": "79ba942d",
   "metadata": {},
   "outputs": [
    {
     "data": {
      "text/plain": [
       "{'alpha': 50, 'max_iter': 5000}"
      ]
     },
     "execution_count": 463,
     "metadata": {},
     "output_type": "execute_result"
    }
   ],
   "source": [
    "rr_grid_cv.best_params_"
   ]
  },
  {
   "cell_type": "code",
   "execution_count": 464,
   "id": "40c1cc6d",
   "metadata": {},
   "outputs": [
    {
     "data": {
      "text/plain": [
       "array([ 0.57466382,  0.56872382,  0.13872922,  0.40090761,  0.42611772,\n",
       "        0.37850081,  0.5515727 ,  0.62897515, -0.00605918,  0.53570095])"
      ]
     },
     "execution_count": 464,
     "metadata": {},
     "output_type": "execute_result"
    }
   ],
   "source": [
    "rr_best_cv_results = cross_validate(rr_grid_cv.best_estimator_, X_train, y_train, cv=10)\n",
    "rr_best_scores = rr_best_cv_results['test_score']\n",
    "rr_best_scores"
   ]
  },
  {
   "cell_type": "code",
   "execution_count": 465,
   "id": "5fc95495",
   "metadata": {},
   "outputs": [
    {
     "data": {
      "text/plain": [
       "(0.41978326306830543, 0.19574772196275597)"
      ]
     },
     "execution_count": 465,
     "metadata": {},
     "output_type": "execute_result"
    }
   ],
   "source": [
    "np.mean(rr_best_scores), np.std(rr_best_scores)"
   ]
  },
  {
   "cell_type": "markdown",
   "id": "87b1f9a8",
   "metadata": {},
   "source": [
    "Here we have a lower grid search cross validation for Ridge Regression. This suggests that the model is not accurate at predicting the price of a home for our dataset."
   ]
  },
  {
   "cell_type": "markdown",
   "id": "f913c2ca",
   "metadata": {},
   "source": [
    "## 3.9 Random Forest Regression<a id='3.9_Random_Forest_Regression'></a>"
   ]
  },
  {
   "cell_type": "markdown",
   "id": "2e451e1b",
   "metadata": {},
   "source": [
    "First we need to give numeric values for the city, view and condition columns for our Random Forest model to see if it will increase the R2 score."
   ]
  },
  {
   "cell_type": "code",
   "execution_count": 466,
   "id": "d27ecac5",
   "metadata": {},
   "outputs": [],
   "source": [
    "df['city']= df['city'].apply({'Shoreline':0,'Seattle':1,'Kent':2,'Bellevue':3,'Redmond':4,'Maple Valley':5,'North Bend':6,'Lake Forest Park':7,\n",
    "                                 'Sammamish':8,'Auburn':9,'Des Moines':10,'Bothell':11,'Federal Way':12,'Kirkland':13,'Issaquah':14,\n",
    "                                 'Woodinville':15,'Normandy Park':16,'Fall City':17,'Renton':18,'Carnation':19,'Snoqualmie':20,\n",
    "                                 'Duvall':21,'Burien':22,'Covington':23,'Inglewood-Finn Hill':24,'Kenmore':25,'Newcastle':26,'Mercer Island':27,\n",
    "                                 'Black Diamond':28,'Ravensdale':29,'Clyde Hill':30,'Algona':31,'Skykomish':32,'Tukwila':33,'Vashon':34,\n",
    "                                 'Yarrow Point':35,'SeaTac':36,'Medina':37,'Enumclaw':38,'Snoqualmie Pass':39,'Pacific':40,'Beaux Arts Village':41,\n",
    "                                'Preston':42,'Milton':43}.get)"
   ]
  },
  {
   "cell_type": "code",
   "execution_count": 467,
   "id": "b73b98d7",
   "metadata": {},
   "outputs": [],
   "source": [
    "df['view']= df['view'].apply({0:0, 1:1, 2:2, 3:3, 4:4}.get)\n",
    "df['condition']= df['condition'].apply({1:1, 2:2, 3:3, 4:4, 5:5}.get)"
   ]
  },
  {
   "cell_type": "code",
   "execution_count": 468,
   "id": "d6e82fe7",
   "metadata": {},
   "outputs": [],
   "source": [
    "features1= df.drop(['date','price','street','yr_built','zip code','country',\n",
    "                       'state','yr_renovated'],axis=1)"
   ]
  },
  {
   "cell_type": "code",
   "execution_count": 627,
   "id": "a7c137fd",
   "metadata": {},
   "outputs": [
    {
     "data": {
      "text/html": [
       "<div>\n",
       "<style scoped>\n",
       "    .dataframe tbody tr th:only-of-type {\n",
       "        vertical-align: middle;\n",
       "    }\n",
       "\n",
       "    .dataframe tbody tr th {\n",
       "        vertical-align: top;\n",
       "    }\n",
       "\n",
       "    .dataframe thead th {\n",
       "        text-align: right;\n",
       "    }\n",
       "</style>\n",
       "<table border=\"1\" class=\"dataframe\">\n",
       "  <thead>\n",
       "    <tr style=\"text-align: right;\">\n",
       "      <th></th>\n",
       "      <th>bedrooms</th>\n",
       "      <th>bathrooms</th>\n",
       "      <th>bd/ba %</th>\n",
       "      <th>age</th>\n",
       "      <th>sqft_above</th>\n",
       "      <th>sqft_basement</th>\n",
       "      <th>sqft_living</th>\n",
       "      <th>sqft_lot</th>\n",
       "      <th>floors</th>\n",
       "      <th>view</th>\n",
       "      <th>waterfront</th>\n",
       "      <th>condition</th>\n",
       "      <th>city</th>\n",
       "      <th>year</th>\n",
       "      <th>month</th>\n",
       "      <th>day</th>\n",
       "      <th>week</th>\n",
       "      <th>renovation_age</th>\n",
       "    </tr>\n",
       "  </thead>\n",
       "  <tbody>\n",
       "    <tr>\n",
       "      <th>0</th>\n",
       "      <td>3.00</td>\n",
       "      <td>1.50</td>\n",
       "      <td>2.00</td>\n",
       "      <td>59</td>\n",
       "      <td>1340</td>\n",
       "      <td>0</td>\n",
       "      <td>1340</td>\n",
       "      <td>7912</td>\n",
       "      <td>1.50</td>\n",
       "      <td>0</td>\n",
       "      <td>0</td>\n",
       "      <td>3</td>\n",
       "      <td>0</td>\n",
       "      <td>2014</td>\n",
       "      <td>5</td>\n",
       "      <td>2</td>\n",
       "      <td>18</td>\n",
       "      <td>9</td>\n",
       "    </tr>\n",
       "    <tr>\n",
       "      <th>1</th>\n",
       "      <td>5.00</td>\n",
       "      <td>2.50</td>\n",
       "      <td>2.00</td>\n",
       "      <td>93</td>\n",
       "      <td>3370</td>\n",
       "      <td>280</td>\n",
       "      <td>3650</td>\n",
       "      <td>9050</td>\n",
       "      <td>2.00</td>\n",
       "      <td>4</td>\n",
       "      <td>0</td>\n",
       "      <td>5</td>\n",
       "      <td>1</td>\n",
       "      <td>2014</td>\n",
       "      <td>5</td>\n",
       "      <td>2</td>\n",
       "      <td>18</td>\n",
       "      <td>0</td>\n",
       "    </tr>\n",
       "    <tr>\n",
       "      <th>2</th>\n",
       "      <td>3.00</td>\n",
       "      <td>2.00</td>\n",
       "      <td>1.50</td>\n",
       "      <td>48</td>\n",
       "      <td>1930</td>\n",
       "      <td>0</td>\n",
       "      <td>1930</td>\n",
       "      <td>11947</td>\n",
       "      <td>1.00</td>\n",
       "      <td>0</td>\n",
       "      <td>0</td>\n",
       "      <td>4</td>\n",
       "      <td>2</td>\n",
       "      <td>2014</td>\n",
       "      <td>5</td>\n",
       "      <td>2</td>\n",
       "      <td>18</td>\n",
       "      <td>0</td>\n",
       "    </tr>\n",
       "  </tbody>\n",
       "</table>\n",
       "</div>"
      ],
      "text/plain": [
       "   bedrooms  bathrooms  bd/ba %  age  sqft_above  sqft_basement  sqft_living  \\\n",
       "0      3.00       1.50     2.00   59        1340              0         1340   \n",
       "1      5.00       2.50     2.00   93        3370            280         3650   \n",
       "2      3.00       2.00     1.50   48        1930              0         1930   \n",
       "\n",
       "   sqft_lot  floors  view  waterfront  condition  city  year  month  day  \\\n",
       "0      7912    1.50     0           0          3     0  2014      5    2   \n",
       "1      9050    2.00     4           0          5     1  2014      5    2   \n",
       "2     11947    1.00     0           0          4     2  2014      5    2   \n",
       "\n",
       "   week  renovation_age  \n",
       "0    18               9  \n",
       "1    18               0  \n",
       "2    18               0  "
      ]
     },
     "execution_count": 627,
     "metadata": {},
     "output_type": "execute_result"
    }
   ],
   "source": [
    "features1.head(3)"
   ]
  },
  {
   "cell_type": "code",
   "execution_count": 470,
   "id": "0cbfc404",
   "metadata": {},
   "outputs": [],
   "source": [
    "X_train, X_test, y_train, y_test = train_test_split(features1, df['price'],test_size=0.3, \n",
    "                                                    random_state=47)"
   ]
  },
  {
   "cell_type": "code",
   "execution_count": 471,
   "id": "a6e53eba",
   "metadata": {},
   "outputs": [],
   "source": [
    "rf_pipeline=make_pipeline(\n",
    "    StandardScaler(), \n",
    "    RandomForestRegressor(n_estimators = 10000,\n",
    "                           random_state = 42,\n",
    "                           min_samples_split = 10,\n",
    "                           bootstrap = True))"
   ]
  },
  {
   "cell_type": "code",
   "execution_count": 472,
   "id": "3d510d39",
   "metadata": {},
   "outputs": [
    {
     "data": {
      "text/plain": [
       "Pipeline(steps=[('standardscaler', StandardScaler()),\n",
       "                ('randomforestregressor',\n",
       "                 RandomForestRegressor(min_samples_split=10, n_estimators=10000,\n",
       "                                       random_state=42))])"
      ]
     },
     "execution_count": 472,
     "metadata": {},
     "output_type": "execute_result"
    }
   ],
   "source": [
    "rf_pipeline.fit(X_train, y_train)"
   ]
  },
  {
   "cell_type": "code",
   "execution_count": 473,
   "id": "01b6316d",
   "metadata": {},
   "outputs": [],
   "source": [
    "y_te_pred_rf = rf_pipeline.predict(X_test)"
   ]
  },
  {
   "cell_type": "code",
   "execution_count": 474,
   "id": "0f1508c6",
   "metadata": {},
   "outputs": [
    {
     "data": {
      "text/plain": [
       "array([836569.22005153, 308434.64192059, 387037.6563454 , ...,\n",
       "       527241.23387044, 952117.63913168, 422250.79643928])"
      ]
     },
     "execution_count": 474,
     "metadata": {},
     "output_type": "execute_result"
    }
   ],
   "source": [
    "y_te_pred_rf"
   ]
  },
  {
   "cell_type": "code",
   "execution_count": 475,
   "id": "d6a7ee47",
   "metadata": {},
   "outputs": [],
   "source": [
    "y_tr_pred_rf = rf_pipeline.predict(X_train)"
   ]
  },
  {
   "cell_type": "code",
   "execution_count": 476,
   "id": "53c4d210",
   "metadata": {},
   "outputs": [
    {
     "data": {
      "text/plain": [
       "array([3512448.99640136, 3411238.30771917,  528018.75791143, ...,\n",
       "        341091.36232179,  487416.69875059,  590182.92122278])"
      ]
     },
     "execution_count": 476,
     "metadata": {},
     "output_type": "execute_result"
    }
   ],
   "source": [
    "y_tr_pred_rf"
   ]
  },
  {
   "cell_type": "markdown",
   "id": "acf21bd1",
   "metadata": {},
   "source": [
    "### 3.9.1 RF Metrics<a id='3.9.1_RF_Metrics'></a>"
   ]
  },
  {
   "cell_type": "code",
   "execution_count": 477,
   "id": "951504ad",
   "metadata": {},
   "outputs": [],
   "source": [
    "r2_test_rf = r2_score(y_test,y_te_pred_rf)\n",
    "mse_test_rf = mean_squared_error(y_test, y_te_pred_rf)\n",
    "rmse_test_rf = sqrt(mse_test)\n",
    "mae_test_rf = mean_absolute_error(y_test, y_te_pred_rf)"
   ]
  },
  {
   "cell_type": "code",
   "execution_count": 478,
   "id": "30cb52b9",
   "metadata": {},
   "outputs": [],
   "source": [
    "r2_train_rf = r2_score(y_train,y_tr_pred_rf)\n",
    "mse_train_rf = mean_squared_error(y_train, y_tr_pred_rf)\n",
    "rmse_train_rf = sqrt(mse_test)\n",
    "mae_train_rf = mean_absolute_error(y_train, y_tr_pred_rf)"
   ]
  },
  {
   "cell_type": "code",
   "execution_count": 479,
   "id": "6c00aade",
   "metadata": {},
   "outputs": [
    {
     "name": "stdout",
     "output_type": "stream",
     "text": [
      "R2 Score:  0.3956232210568841\n",
      "MSE:  70352537281.89313\n",
      "RMSE:  248947.749763711\n",
      "MAE:  140215.58163085923\n"
     ]
    }
   ],
   "source": [
    "print('R2 Score: ', r2_test_rf)\n",
    "print('MSE: ', mse_test_rf)\n",
    "print('RMSE: ', rmse_test_rf)\n",
    "print('MAE: ', mae_test_rf)"
   ]
  },
  {
   "cell_type": "code",
   "execution_count": 480,
   "id": "6c23e792",
   "metadata": {},
   "outputs": [
    {
     "name": "stdout",
     "output_type": "stream",
     "text": [
      "R2 Score:  0.65300007638006\n",
      "MSE:  140209039339.11996\n",
      "RMSE:  248947.749763711\n",
      "MAE:  89118.92067473156\n"
     ]
    }
   ],
   "source": [
    "print('R2 Score: ', r2_train_rf)\n",
    "print('MSE: ', mse_train_rf)\n",
    "print('RMSE: ', rmse_train_rf)\n",
    "print('MAE: ', mae_train_rf)"
   ]
  },
  {
   "cell_type": "markdown",
   "id": "6259db22",
   "metadata": {},
   "source": [
    "This model has a lower R2 score than the first two models. The MSE, RMSE and MAE are higher as well than the firrst two models."
   ]
  },
  {
   "cell_type": "code",
   "execution_count": 623,
   "id": "c180ce41",
   "metadata": {},
   "outputs": [],
   "source": [
    "table_rf=pd.DataFrame({'Test':[r2_test_rf, mse_test_rf, rmse_test_rf, mae_test_rf],\n",
    "                    'Training': [r2_train_rf, mse_train_rf, rmse_train_rf, mae_train_rf]},\n",
    "                     index=['R2', 'MSE', 'RMSE', 'MAE'])"
   ]
  },
  {
   "cell_type": "code",
   "execution_count": 624,
   "id": "4eedd376",
   "metadata": {},
   "outputs": [
    {
     "data": {
      "text/html": [
       "<div>\n",
       "<style scoped>\n",
       "    .dataframe tbody tr th:only-of-type {\n",
       "        vertical-align: middle;\n",
       "    }\n",
       "\n",
       "    .dataframe tbody tr th {\n",
       "        vertical-align: top;\n",
       "    }\n",
       "\n",
       "    .dataframe thead th {\n",
       "        text-align: right;\n",
       "    }\n",
       "</style>\n",
       "<table border=\"1\" class=\"dataframe\">\n",
       "  <thead>\n",
       "    <tr style=\"text-align: right;\">\n",
       "      <th></th>\n",
       "      <th>Test</th>\n",
       "      <th>Training</th>\n",
       "    </tr>\n",
       "  </thead>\n",
       "  <tbody>\n",
       "    <tr>\n",
       "      <th>R2</th>\n",
       "      <td>0.40</td>\n",
       "      <td>0.65</td>\n",
       "    </tr>\n",
       "    <tr>\n",
       "      <th>MSE</th>\n",
       "      <td>70352537281.89</td>\n",
       "      <td>140209039339.12</td>\n",
       "    </tr>\n",
       "    <tr>\n",
       "      <th>RMSE</th>\n",
       "      <td>248947.75</td>\n",
       "      <td>248947.75</td>\n",
       "    </tr>\n",
       "    <tr>\n",
       "      <th>MAE</th>\n",
       "      <td>140215.58</td>\n",
       "      <td>89118.92</td>\n",
       "    </tr>\n",
       "  </tbody>\n",
       "</table>\n",
       "</div>"
      ],
      "text/plain": [
       "               Test        Training\n",
       "R2             0.40            0.65\n",
       "MSE  70352537281.89 140209039339.12\n",
       "RMSE      248947.75       248947.75\n",
       "MAE       140215.58        89118.92"
      ]
     },
     "execution_count": 624,
     "metadata": {},
     "output_type": "execute_result"
    }
   ],
   "source": [
    "table_rf"
   ]
  },
  {
   "cell_type": "markdown",
   "id": "7f1dd556",
   "metadata": {},
   "source": [
    "The higher training R2 score means that the model is overfitting the data."
   ]
  },
  {
   "cell_type": "markdown",
   "id": "a5b9f25c",
   "metadata": {},
   "source": [
    "### 3.9.2 Cross Validation of RF<a id='3.9.2_Cross_Validation_of_RF'></a>"
   ]
  },
  {
   "cell_type": "code",
   "execution_count": 482,
   "id": "ffacb374",
   "metadata": {},
   "outputs": [
    {
     "data": {
      "text/plain": [
       "{'fit_time': array([118.13048077, 122.07361126, 120.76079416, 121.88335609,\n",
       "        120.54279017, 121.50665975, 122.78863382, 122.16399574,\n",
       "        121.93012857, 125.03638673]),\n",
       " 'score_time': array([1.1243608 , 1.11736178, 1.12035799, 1.20830441, 1.18532181,\n",
       "        1.12635279, 1.12635541, 1.12535405, 1.12635159, 1.12035584]),\n",
       " 'test_score': array([0.53936695, 0.36899571, 0.07518875, 0.36522929, 0.44604904,\n",
       "        0.27717615, 0.60435922, 0.67969309, 0.00267993, 0.22417229])}"
      ]
     },
     "execution_count": 482,
     "metadata": {},
     "output_type": "execute_result"
    }
   ],
   "source": [
    "cv_results_rf = cross_validate(rf_pipeline, X_train, y_train, cv=10)\n",
    "cv_results_rf"
   ]
  },
  {
   "cell_type": "code",
   "execution_count": 483,
   "id": "8ad06935",
   "metadata": {},
   "outputs": [
    {
     "data": {
      "text/plain": [
       "array([0.53936695, 0.36899571, 0.07518875, 0.36522929, 0.44604904,\n",
       "       0.27717615, 0.60435922, 0.67969309, 0.00267993, 0.22417229])"
      ]
     },
     "execution_count": 483,
     "metadata": {},
     "output_type": "execute_result"
    }
   ],
   "source": [
    "cv_scores_rf = cv_results_rf['test_score']\n",
    "cv_scores_rf"
   ]
  },
  {
   "cell_type": "code",
   "execution_count": 484,
   "id": "a5939ae8",
   "metadata": {},
   "outputs": [
    {
     "data": {
      "text/plain": [
       "(0.3582910431354306, 0.20872832568212693)"
      ]
     },
     "execution_count": 484,
     "metadata": {},
     "output_type": "execute_result"
    }
   ],
   "source": [
    "np.mean(cv_scores_rf), np.std(cv_scores_rf)"
   ]
  },
  {
   "cell_type": "markdown",
   "id": "58b17e67",
   "metadata": {},
   "source": [
    "### 3.9.3 Grid Search CV for Random Forest<a id='3.9.3_Grid_Search_CV_for_Random_Forest'></a> "
   ]
  },
  {
   "cell_type": "code",
   "execution_count": 485,
   "id": "c9060492",
   "metadata": {},
   "outputs": [],
   "source": [
    "param_grid = {'n_estimators':[100, 200, 500, 1000], 'max_depth':[10, 50, 100]}"
   ]
  },
  {
   "cell_type": "code",
   "execution_count": 486,
   "id": "a8675de9",
   "metadata": {},
   "outputs": [],
   "source": [
    "rf_grid_cv = GridSearchCV(RandomForestRegressor(), param_grid, refit = True, verbose = 3,n_jobs=-1) "
   ]
  },
  {
   "cell_type": "code",
   "execution_count": 487,
   "id": "63cb86a2",
   "metadata": {},
   "outputs": [
    {
     "name": "stdout",
     "output_type": "stream",
     "text": [
      "Fitting 5 folds for each of 12 candidates, totalling 60 fits\n"
     ]
    },
    {
     "data": {
      "text/plain": [
       "GridSearchCV(estimator=RandomForestRegressor(), n_jobs=-1,\n",
       "             param_grid={'max_depth': [10, 50, 100],\n",
       "                         'n_estimators': [100, 200, 500, 1000]},\n",
       "             verbose=3)"
      ]
     },
     "execution_count": 487,
     "metadata": {},
     "output_type": "execute_result"
    }
   ],
   "source": [
    "rf_grid_cv.fit(X_train, y_train)"
   ]
  },
  {
   "cell_type": "code",
   "execution_count": 488,
   "id": "bc0c4707",
   "metadata": {},
   "outputs": [
    {
     "data": {
      "text/plain": [
       "{'max_depth': 100, 'n_estimators': 200}"
      ]
     },
     "execution_count": 488,
     "metadata": {},
     "output_type": "execute_result"
    }
   ],
   "source": [
    "rf_grid_cv.best_params_"
   ]
  },
  {
   "cell_type": "code",
   "execution_count": 489,
   "id": "e94f53bc",
   "metadata": {},
   "outputs": [
    {
     "data": {
      "text/plain": [
       "array([ 4.11262046e-01,  4.42329651e-01,  1.01395094e-01,  4.37197525e-01,\n",
       "        4.05809038e-01, -4.80115828e-01,  6.18407785e-01,  6.38142837e-01,\n",
       "        2.42037715e-04,  1.95319903e-01])"
      ]
     },
     "execution_count": 489,
     "metadata": {},
     "output_type": "execute_result"
    }
   ],
   "source": [
    "rf_best_cv_results = cross_validate(rf_grid_cv.best_estimator_, X_train, y_train, cv=10)\n",
    "rf_best_scores = rf_best_cv_results['test_score']\n",
    "rf_best_scores"
   ]
  },
  {
   "cell_type": "code",
   "execution_count": 490,
   "id": "ebd1244e",
   "metadata": {},
   "outputs": [
    {
     "data": {
      "text/plain": [
       "(0.27699900889897217, 0.3196758824381164)"
      ]
     },
     "execution_count": 490,
     "metadata": {},
     "output_type": "execute_result"
    }
   ],
   "source": [
    "np.mean(rf_best_scores), np.std(rf_best_scores)"
   ]
  },
  {
   "cell_type": "markdown",
   "id": "641990d4",
   "metadata": {},
   "source": [
    "Once again the grid search CV R2 score is lower for this model. "
   ]
  },
  {
   "cell_type": "markdown",
   "id": "76661fa2",
   "metadata": {},
   "source": [
    "## 3.10 XGB Regression<a id='3.10_XGB_Regression'></a>"
   ]
  },
  {
   "cell_type": "code",
   "execution_count": 513,
   "id": "c5b2b828",
   "metadata": {},
   "outputs": [
    {
     "name": "stdout",
     "output_type": "stream",
     "text": [
      "Collecting package metadata (current_repodata.json): ...working... done\n",
      "Solving environment: ...working... done\n",
      "\n",
      "# All requested packages already installed.\n",
      "\n",
      "Retrieving notices: ...working... done\n",
      "\n",
      "Note: you may need to restart the kernel to use updated packages.\n"
     ]
    }
   ],
   "source": [
    "conda install -c conda-forge xgboost"
   ]
  },
  {
   "cell_type": "code",
   "execution_count": 514,
   "id": "5cbbed56",
   "metadata": {},
   "outputs": [],
   "source": [
    "from xgboost import XGBRegressor\n",
    "import xgboost as xgb"
   ]
  },
  {
   "cell_type": "code",
   "execution_count": 516,
   "id": "01b6ef36",
   "metadata": {},
   "outputs": [],
   "source": [
    "scaler = StandardScaler()\n",
    "scaler.fit(X_train)\n",
    "X_train_scaled = scaler.transform(X_train)\n",
    "X_test_scaled = scaler.transform(X_test)"
   ]
  },
  {
   "cell_type": "code",
   "execution_count": 517,
   "id": "26a8e0ef",
   "metadata": {},
   "outputs": [],
   "source": [
    "xgbr = XGBRegressor(objective = 'reg:squarederror',\n",
    "        colsample_bytree = 0.5,\n",
    "        learning_rate = 0.05,\n",
    "        max_depth = 10,\n",
    "        min_child_weight = 1,\n",
    "        n_estimators = 1000,\n",
    "        subsample = 0.7).fit(X_train_scaled, y_train)"
   ]
  },
  {
   "cell_type": "code",
   "execution_count": 518,
   "id": "944d96db",
   "metadata": {},
   "outputs": [],
   "source": [
    "y_te_pred_xgb = xgbr.predict(X_test_scaled)"
   ]
  },
  {
   "cell_type": "code",
   "execution_count": 519,
   "id": "475e9a04",
   "metadata": {},
   "outputs": [
    {
     "data": {
      "text/plain": [
       "array([815268.8 , 325512.28, 374205.28, ..., 575320.7 , 999218.56,\n",
       "       386445.3 ], dtype=float32)"
      ]
     },
     "execution_count": 519,
     "metadata": {},
     "output_type": "execute_result"
    }
   ],
   "source": [
    "y_te_pred_xgb"
   ]
  },
  {
   "cell_type": "code",
   "execution_count": 520,
   "id": "fa93a4ed",
   "metadata": {},
   "outputs": [],
   "source": [
    "y_tr_pred_xgb = xgbr.predict(X_train_scaled)"
   ]
  },
  {
   "cell_type": "code",
   "execution_count": 521,
   "id": "9d0dc655",
   "metadata": {},
   "outputs": [
    {
     "data": {
      "text/plain": [
       "array([2888082.  , 3800037.  ,  604712.9 , ...,  253129.47,  505093.16,\n",
       "        586611.25], dtype=float32)"
      ]
     },
     "execution_count": 521,
     "metadata": {},
     "output_type": "execute_result"
    }
   ],
   "source": [
    "y_tr_pred_xgb"
   ]
  },
  {
   "cell_type": "markdown",
   "id": "baf8492d",
   "metadata": {},
   "source": [
    "### 3.10.1 XGB Metrics<a id='3.10.1_XGB_Metrics'></a>"
   ]
  },
  {
   "cell_type": "code",
   "execution_count": 522,
   "id": "aa53a345",
   "metadata": {},
   "outputs": [],
   "source": [
    "r2_test_xgb = r2_score(y_test,y_te_pred_xgb)\n",
    "mse_test_xgb = mean_squared_error(y_test, y_te_pred_xgb)\n",
    "rmse_test_xgb = np.sqrt(mse_test)\n",
    "mae_test_xgb = mean_absolute_error(y_test, y_te_pred_xgb)"
   ]
  },
  {
   "cell_type": "code",
   "execution_count": 523,
   "id": "a6cf87ba",
   "metadata": {},
   "outputs": [
    {
     "name": "stdout",
     "output_type": "stream",
     "text": [
      "R2 Score:  0.3030709607666885\n",
      "MSE:  81126092073.28644\n",
      "RMSE:  248947.749763711\n",
      "MAE:  145701.3168604714\n"
     ]
    }
   ],
   "source": [
    "print('R2 Score: ', r2_test_xgb)\n",
    "print('MSE: ', mse_test_xgb)\n",
    "print('RMSE: ', rmse_test_xgb)\n",
    "print('MAE: ', mae_test_xgb)"
   ]
  },
  {
   "cell_type": "code",
   "execution_count": 524,
   "id": "ec694f0b",
   "metadata": {},
   "outputs": [],
   "source": [
    "r2_train_xgb = r2_score(y_train,y_tr_pred_xgb)\n",
    "mse_train_xgb = mean_squared_error(y_train, y_tr_pred_xgb)\n",
    "rmse_train_xgb = np.sqrt(mse_train_xgb)\n",
    "mae_train_xgb = mean_absolute_error(y_train, y_tr_pred_xgb)"
   ]
  },
  {
   "cell_type": "code",
   "execution_count": 525,
   "id": "645f9f6e",
   "metadata": {},
   "outputs": [
    {
     "name": "stdout",
     "output_type": "stream",
     "text": [
      "R2 Score:  0.9999996096053836\n",
      "MSE:  157743.13018959042\n",
      "RMSE:  397.16889378398\n",
      "MAE:  262.5218084015361\n"
     ]
    }
   ],
   "source": [
    "print('R2 Score: ', r2_train_xgb)\n",
    "print('MSE: ', mse_train_xgb)\n",
    "print('RMSE: ', rmse_train_xgb)\n",
    "print('MAE: ', mae_train_xgb)"
   ]
  },
  {
   "cell_type": "markdown",
   "id": "5695fa28",
   "metadata": {},
   "source": [
    "This is the lowest R2 score out of the four models. The very high R2 score on the training data means that the model is overfitting the data and simply repeating the information "
   ]
  },
  {
   "cell_type": "code",
   "execution_count": 620,
   "id": "e73c6f31",
   "metadata": {},
   "outputs": [],
   "source": [
    "xgb_table=pd.DataFrame({'Test':[r2_test_xgb, mse_test_xgb, rmse_test_xgb, mae_test_xgb], \n",
    "                        'Training': [r2_train_xgb, mse_train_xgb, rmse_train_xgb, mae_train_xgb]},\n",
    "              index=['R2', 'MSE', 'RMSE', 'MAE'])"
   ]
  },
  {
   "cell_type": "code",
   "execution_count": 621,
   "id": "869716e2",
   "metadata": {},
   "outputs": [
    {
     "data": {
      "text/html": [
       "<div>\n",
       "<style scoped>\n",
       "    .dataframe tbody tr th:only-of-type {\n",
       "        vertical-align: middle;\n",
       "    }\n",
       "\n",
       "    .dataframe tbody tr th {\n",
       "        vertical-align: top;\n",
       "    }\n",
       "\n",
       "    .dataframe thead th {\n",
       "        text-align: right;\n",
       "    }\n",
       "</style>\n",
       "<table border=\"1\" class=\"dataframe\">\n",
       "  <thead>\n",
       "    <tr style=\"text-align: right;\">\n",
       "      <th></th>\n",
       "      <th>Test</th>\n",
       "      <th>Training</th>\n",
       "    </tr>\n",
       "  </thead>\n",
       "  <tbody>\n",
       "    <tr>\n",
       "      <th>R2</th>\n",
       "      <td>0.30</td>\n",
       "      <td>1.00</td>\n",
       "    </tr>\n",
       "    <tr>\n",
       "      <th>MSE</th>\n",
       "      <td>81126092073.29</td>\n",
       "      <td>157743.13</td>\n",
       "    </tr>\n",
       "    <tr>\n",
       "      <th>RMSE</th>\n",
       "      <td>248947.75</td>\n",
       "      <td>397.17</td>\n",
       "    </tr>\n",
       "    <tr>\n",
       "      <th>MAE</th>\n",
       "      <td>145701.32</td>\n",
       "      <td>262.52</td>\n",
       "    </tr>\n",
       "  </tbody>\n",
       "</table>\n",
       "</div>"
      ],
      "text/plain": [
       "               Test  Training\n",
       "R2             0.30      1.00\n",
       "MSE  81126092073.29 157743.13\n",
       "RMSE      248947.75    397.17\n",
       "MAE       145701.32    262.52"
      ]
     },
     "execution_count": 621,
     "metadata": {},
     "output_type": "execute_result"
    }
   ],
   "source": [
    "xgb_table"
   ]
  },
  {
   "cell_type": "markdown",
   "id": "f5c992f2",
   "metadata": {},
   "source": [
    "This was the least accurate model of all four. It had the highest MSE, RMSE and MAE values and the lowest R2 score."
   ]
  },
  {
   "cell_type": "markdown",
   "id": "ffd290f7",
   "metadata": {},
   "source": [
    "### 3.10.2 Cross Validation of XGB Regression<a id='3.10.2_Cross_Validation_of_XGB_Regression'></a>"
   ]
  },
  {
   "cell_type": "code",
   "execution_count": 504,
   "id": "d8aff641",
   "metadata": {},
   "outputs": [
    {
     "data": {
      "text/plain": [
       "{'fit_time': array([5.68773222, 5.69675303, 5.66476917, 5.73173499, 5.82068396,\n",
       "        5.71274567, 5.69275475, 5.66376901, 5.68474436, 5.78769946]),\n",
       " 'score_time': array([0.01299071, 0.01297593, 0.01297688, 0.01297331, 0.01297259,\n",
       "        0.01397419, 0.01197648, 0.01197958, 0.01299143, 0.01197743]),\n",
       " 'test_score': array([ 4.83216294e-01,  2.64464951e-01,  9.22841872e-02,  4.13101956e-01,\n",
       "         3.83412949e-01,  1.04206583e-01,  1.84211180e-01,  4.12306531e-01,\n",
       "        -1.37541803e-04,  5.22579761e-01])}"
      ]
     },
     "execution_count": 504,
     "metadata": {},
     "output_type": "execute_result"
    }
   ],
   "source": [
    "cv_results_xgb = cross_validate(xgbr, X_train_scaled, y_train, cv=10)\n",
    "cv_results_xgb"
   ]
  },
  {
   "cell_type": "code",
   "execution_count": 505,
   "id": "a6a15f3a",
   "metadata": {},
   "outputs": [
    {
     "data": {
      "text/plain": [
       "array([ 4.83216294e-01,  2.64464951e-01,  9.22841872e-02,  4.13101956e-01,\n",
       "        3.83412949e-01,  1.04206583e-01,  1.84211180e-01,  4.12306531e-01,\n",
       "       -1.37541803e-04,  5.22579761e-01])"
      ]
     },
     "execution_count": 505,
     "metadata": {},
     "output_type": "execute_result"
    }
   ],
   "source": [
    "cv_scores_xgb = cv_results_xgb['test_score']\n",
    "cv_scores_xgb"
   ]
  },
  {
   "cell_type": "code",
   "execution_count": 506,
   "id": "2f48fcd9",
   "metadata": {},
   "outputs": [
    {
     "data": {
      "text/plain": [
       "(0.28596468501348093, 0.1731288088295915)"
      ]
     },
     "execution_count": 506,
     "metadata": {},
     "output_type": "execute_result"
    }
   ],
   "source": [
    "np.mean(cv_scores_xgb), np.std(cv_scores_xgb)"
   ]
  },
  {
   "cell_type": "markdown",
   "id": "55d49315",
   "metadata": {},
   "source": [
    "Another lower cross validation score of .285. This proves that this model is more than likely inaccurate as well."
   ]
  },
  {
   "cell_type": "markdown",
   "id": "58d1ce82",
   "metadata": {},
   "source": [
    "### 3.10.3 Grid Search CV for XGB Regression<a id='3.10.3_Grid_Search_CV_for_XGB_Regression'></a> "
   ]
  },
  {
   "cell_type": "code",
   "execution_count": 507,
   "id": "b5a50be4",
   "metadata": {},
   "outputs": [],
   "source": [
    "parameters = {\"learning_rate\": [0.05, 0.10, 0.15, 0.20, 0.25, 0.30 ],\n",
    " \"max_depth\"        : [1,2, 3, 4, 5, 6, 8, 10, 12, 15],\n",
    " 'n_estimators' : [5,10,50,100,500,1000]}"
   ]
  },
  {
   "cell_type": "code",
   "execution_count": 508,
   "id": "7f273680",
   "metadata": {},
   "outputs": [],
   "source": [
    "xgb_grid = GridSearchCV(xgbr,\n",
    "                        parameters,\n",
    "                        cv = 10,\n",
    "                        n_jobs = 5,\n",
    "                        verbose=True)"
   ]
  },
  {
   "cell_type": "code",
   "execution_count": 509,
   "id": "0eef39de",
   "metadata": {},
   "outputs": [
    {
     "name": "stdout",
     "output_type": "stream",
     "text": [
      "Fitting 10 folds for each of 360 candidates, totalling 3600 fits\n"
     ]
    },
    {
     "data": {
      "text/plain": [
       "GridSearchCV(cv=10,\n",
       "             estimator=XGBRegressor(base_score=0.5, booster='gbtree',\n",
       "                                    colsample_bylevel=1, colsample_bynode=1,\n",
       "                                    colsample_bytree=0.5,\n",
       "                                    enable_categorical=False, gamma=0,\n",
       "                                    gpu_id=-1, importance_type=None,\n",
       "                                    interaction_constraints='',\n",
       "                                    learning_rate=0.05, max_delta_step=0,\n",
       "                                    max_depth=10, min_child_weight=1,\n",
       "                                    missing=nan, monotone_constraints='()',\n",
       "                                    n_estimators=1000, n_jobs=8,\n",
       "                                    num_parallel_tree=1, predictor='auto',\n",
       "                                    random_state=0, reg_alpha=0, reg_lambda=1,\n",
       "                                    scale_pos_weight=1, subsample=0.7,\n",
       "                                    tree_method='exact', validate_parameters=1,\n",
       "                                    verbosity=None),\n",
       "             n_jobs=5,\n",
       "             param_grid={'learning_rate': [0.05, 0.1, 0.15, 0.2, 0.25, 0.3],\n",
       "                         'max_depth': [1, 2, 3, 4, 5, 6, 8, 10, 12, 15],\n",
       "                         'n_estimators': [5, 10, 50, 100, 500, 1000]},\n",
       "             verbose=True)"
      ]
     },
     "execution_count": 509,
     "metadata": {},
     "output_type": "execute_result"
    }
   ],
   "source": [
    "xgb_grid.fit(X_train_scaled, y_train)"
   ]
  },
  {
   "cell_type": "code",
   "execution_count": 510,
   "id": "f300b04a",
   "metadata": {},
   "outputs": [
    {
     "data": {
      "text/plain": [
       "{'learning_rate': 0.1, 'max_depth': 2, 'n_estimators': 100}"
      ]
     },
     "execution_count": 510,
     "metadata": {},
     "output_type": "execute_result"
    }
   ],
   "source": [
    "xgb_grid.best_params_"
   ]
  },
  {
   "cell_type": "code",
   "execution_count": 511,
   "id": "86ab26e9",
   "metadata": {},
   "outputs": [
    {
     "data": {
      "text/plain": [
       "array([ 0.49396733,  0.36840425,  0.10544041,  0.36324592,  0.40737846,\n",
       "       -0.828053  ,  0.62519659,  0.68219228,  0.00337   ,  0.14866684])"
      ]
     },
     "execution_count": 511,
     "metadata": {},
     "output_type": "execute_result"
    }
   ],
   "source": [
    "xgb_grid_cv_results = cross_validate(rf_grid_cv.best_estimator_, X_train_scaled, y_train, cv=10)\n",
    "xgb_grid_best_scores = xgb_grid_cv_results['test_score']\n",
    "xgb_grid_best_scores"
   ]
  },
  {
   "cell_type": "code",
   "execution_count": 512,
   "id": "6e752629",
   "metadata": {},
   "outputs": [
    {
     "data": {
      "text/plain": [
       "(0.23698090985441186, 0.4112408589476557)"
      ]
     },
     "execution_count": 512,
     "metadata": {},
     "output_type": "execute_result"
    }
   ],
   "source": [
    "np.mean(xgb_grid_best_scores), np.std(xgb_grid_best_scores)"
   ]
  },
  {
   "cell_type": "markdown",
   "id": "3611c9e6",
   "metadata": {},
   "source": [
    "The grid search CV score is even lower then the first two R2 scores for the XGB Regression model."
   ]
  },
  {
   "cell_type": "markdown",
   "id": "781a8137",
   "metadata": {},
   "source": [
    "## 3.11 Model Metrics<a id='3.11_Model_Metrics'></a> "
   ]
  },
  {
   "cell_type": "code",
   "execution_count": 612,
   "id": "d0416c6c",
   "metadata": {},
   "outputs": [],
   "source": [
    "data = {\n",
    "        'R2 Score': [r2_test_lr,r2_test,r2_test_rf, r2_test_xgb],\n",
    "        'MSE' : [mse_test_lr,mse_test, mse_test_rf, mse_test_xgb],\n",
    "        'MAE': [mae_test_lr, mae_test, mae_test_rf, mae_test_xgb],\n",
    "        'RMSE': [rmse_test_lr, rmse_test, rmse_test_rf, rmse_test_xgb],\n",
    "        'CV Mean Score': [np.mean(cv_scores_lr), np.mean(cv_scores_rr), np.mean(cv_scores_rf), np.mean(cv_scores_xgb)],\n",
    "        'Grid Search CV Best Score': [np.mean(lr_best_scores), np.mean(rr_best_scores), np.mean(rf_best_scores), np.mean(xgb_grid_best_scores)]}"
   ]
  },
  {
   "cell_type": "code",
   "execution_count": 613,
   "id": "7f1c6ea2",
   "metadata": {},
   "outputs": [],
   "source": [
    "df_metrics = pd.DataFrame(data, index=['Linear Regression',\n",
    "                                       'Ridge Regression',\n",
    "                                       'Random Forest Regression Model',\n",
    "                                       'XGB Regession Model'])"
   ]
  },
  {
   "cell_type": "code",
   "execution_count": 614,
   "id": "99aac55a",
   "metadata": {},
   "outputs": [
    {
     "data": {
      "text/html": [
       "<div>\n",
       "<style scoped>\n",
       "    .dataframe tbody tr th:only-of-type {\n",
       "        vertical-align: middle;\n",
       "    }\n",
       "\n",
       "    .dataframe tbody tr th {\n",
       "        vertical-align: top;\n",
       "    }\n",
       "\n",
       "    .dataframe thead th {\n",
       "        text-align: right;\n",
       "    }\n",
       "</style>\n",
       "<table border=\"1\" class=\"dataframe\">\n",
       "  <thead>\n",
       "    <tr style=\"text-align: right;\">\n",
       "      <th></th>\n",
       "      <th>R2 Score</th>\n",
       "      <th>MSE</th>\n",
       "      <th>MAE</th>\n",
       "      <th>RMSE</th>\n",
       "      <th>CV Mean Score</th>\n",
       "      <th>Grid Search CV Best Score</th>\n",
       "    </tr>\n",
       "  </thead>\n",
       "  <tbody>\n",
       "    <tr>\n",
       "      <th>Linear Regression</th>\n",
       "      <td>0.47</td>\n",
       "      <td>61734606846.02</td>\n",
       "      <td>164817.45</td>\n",
       "      <td>248464.50</td>\n",
       "      <td>0.41</td>\n",
       "      <td>0.33</td>\n",
       "    </tr>\n",
       "    <tr>\n",
       "      <th>Ridge Regression</th>\n",
       "      <td>0.47</td>\n",
       "      <td>61974982112.42</td>\n",
       "      <td>165587.71</td>\n",
       "      <td>248947.75</td>\n",
       "      <td>0.41</td>\n",
       "      <td>0.42</td>\n",
       "    </tr>\n",
       "    <tr>\n",
       "      <th>Random Forest Regression Model</th>\n",
       "      <td>0.40</td>\n",
       "      <td>70352537281.89</td>\n",
       "      <td>140215.58</td>\n",
       "      <td>248947.75</td>\n",
       "      <td>0.36</td>\n",
       "      <td>0.28</td>\n",
       "    </tr>\n",
       "    <tr>\n",
       "      <th>XGB Regession Model</th>\n",
       "      <td>0.30</td>\n",
       "      <td>81126092073.29</td>\n",
       "      <td>145701.32</td>\n",
       "      <td>248947.75</td>\n",
       "      <td>0.29</td>\n",
       "      <td>0.24</td>\n",
       "    </tr>\n",
       "  </tbody>\n",
       "</table>\n",
       "</div>"
      ],
      "text/plain": [
       "                                R2 Score            MSE       MAE      RMSE  \\\n",
       "Linear Regression                   0.47 61734606846.02 164817.45 248464.50   \n",
       "Ridge Regression                    0.47 61974982112.42 165587.71 248947.75   \n",
       "Random Forest Regression Model      0.40 70352537281.89 140215.58 248947.75   \n",
       "XGB Regession Model                 0.30 81126092073.29 145701.32 248947.75   \n",
       "\n",
       "                                CV Mean Score  Grid Search CV Best Score  \n",
       "Linear Regression                        0.41                       0.33  \n",
       "Ridge Regression                         0.41                       0.42  \n",
       "Random Forest Regression Model           0.36                       0.28  \n",
       "XGB Regession Model                      0.29                       0.24  "
      ]
     },
     "execution_count": 614,
     "metadata": {},
     "output_type": "execute_result"
    }
   ],
   "source": [
    "df_metrics"
   ]
  },
  {
   "cell_type": "markdown",
   "id": "db7f4443",
   "metadata": {},
   "source": [
    "## 3.12 Summary<a id='3.12_Summary'></a>"
   ]
  },
  {
   "cell_type": "markdown",
   "id": "5e91620a",
   "metadata": {},
   "source": [
    "\n",
    "I tried four different models with similar results. For this particular data it is hard to predict the price of a home for this time period. Sometimes in data science this happens.  \n",
    "\n",
    "The most accurate R2 score on the test data was Linear Regression at .4696. It would be hard to predict the price of a home if you get less than half of them correct. The MSE for Linear Regression was 61,734,606,846.02. The RMSE was 248,464.50 and 164,817.45 MAE for the test data from Linear Regression. All these statistics suggest that this model could be very inaccurate at predicting the price. The cross validation mean scores were slightly lower for the R2 score at .413 and a standard deviation average of .198. The grid search cross validation average was .332 for the R2 score and a standard deviation of .154 for Linear Regression.\n",
    "\n",
    "Ridge Regression was similar to Linear Regression. The R2 test score was slightly lower at .467. The MSE was 61,974,982,112.41, RMSE was 248947.74 and the MAE was 165,587.70. The mean cross validation R2 score was .413 and the standard deviation average was also .198. The grid search mean was .419 for the R2 score and the standard deviation was .195.\n",
    "\n",
    "The Random Forest Regressor model had an R2 test score lower than the first three models at .395. The MSE was also very high at  70,352,537,281.89, RMSE was 248,947.74 and the MAE was 140,215.58. These numbers suggest that it is inaccurate at predicting the price. The cross validation mean R2 score was .358 and the standard deviation was .208. For the grid search the R2 mean score was .276 and a standard deviation of .319. The cross validations confirm that this model is not very good at predicting the price.\n",
    "\n",
    "The XGB Regression Model had the lowest R2 test score of .303. The MSE was 81,126,092,073.28, RMSE was  248,947.74 and the MAE was 145,701.31. The cross validation mean R2 score was .285 and the standard deviation was .173. The grid search R2 score average was .236 and the standard deviation average was .411. This was the most inaccurate model out of all four.\n",
    "\n",
    "Going forward I would recommend that we need more information to predict the price of the home. I would also try a different model as well, but typically linear regression is the best at predicting the price of a home. Houses come in all different shapes and sizes which can make it tricky to predict the price. Sometimes a very small home is extremely expensive due to the location and vice versa. "
   ]
  }
 ],
 "metadata": {
  "kernelspec": {
   "display_name": "Python 3 (ipykernel)",
   "language": "python",
   "name": "python3"
  },
  "language_info": {
   "codemirror_mode": {
    "name": "ipython",
    "version": 3
   },
   "file_extension": ".py",
   "mimetype": "text/x-python",
   "name": "python",
   "nbconvert_exporter": "python",
   "pygments_lexer": "ipython3",
   "version": "3.9.7"
  }
 },
 "nbformat": 4,
 "nbformat_minor": 5
}
